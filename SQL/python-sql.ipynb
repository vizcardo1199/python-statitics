{
 "cells": [
  {
   "cell_type": "code",
   "execution_count": 5,
   "metadata": {},
   "outputs": [
    {
     "name": "stdout",
     "output_type": "stream",
     "text": [
      "la conexion fue exitosa\n"
     ]
    }
   ],
   "source": [
    "import mysql.connector\n",
    "\n",
    "try:\n",
    "    conexion = mysql.connector.connect(\n",
    "        host = \"pdmmonitor.net\",\n",
    "        user = \"pdm_monitor\",\n",
    "        password = \"+Corel1410\",\n",
    "        database = \"pdm_monitor\"\n",
    "    )\n",
    "    if conexion.is_connected():\n",
    "        print('la conexion fue exitosa')\n",
    "except mysql.connector.Error as e:\n",
    "    print(\"hubo un error al conectar la base de datos\",e)\n",
    "finally:\n",
    "    if conexion.is_connected():\n",
    "        conexion.close()\n",
    "\n",
    "\n"
   ]
  }
 ],
 "metadata": {
  "kernelspec": {
   "display_name": "Python 3",
   "language": "python",
   "name": "python3"
  },
  "language_info": {
   "codemirror_mode": {
    "name": "ipython",
    "version": 3
   },
   "file_extension": ".py",
   "mimetype": "text/x-python",
   "name": "python",
   "nbconvert_exporter": "python",
   "pygments_lexer": "ipython3",
   "version": "3.9.15"
  }
 },
 "nbformat": 4,
 "nbformat_minor": 2
}
