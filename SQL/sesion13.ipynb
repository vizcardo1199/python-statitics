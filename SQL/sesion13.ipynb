{
 "cells": [
  {
   "cell_type": "code",
   "execution_count": 1,
   "id": "265de9c2",
   "metadata": {},
   "outputs": [
    {
     "name": "stdout",
     "output_type": "stream",
     "text": [
      "la conexion fue exitosa\n"
     ]
    }
   ],
   "source": [
    "import mysql.connector\n",
    "\n",
    "try:\n",
    "    conexion = mysql.connector.connect(\n",
    "        host = \"pdmmonitor.net\",\n",
    "        user = \"pdm_monitor\",\n",
    "        password = \"+Corel1410\",\n",
    "        database = \"pdm_monitor\"\n",
    "    )\n",
    "    if conexion.is_connected():\n",
    "        print('la conexion fue exitosa')\n",
    "except mysql.connector.Error as e:\n",
    "    print(\"hubo un error al conectar la base de datos\",e)\n",
    "finally:\n",
    "    if conexion.is_connected():\n",
    "        conexion.close()\n",
    "\n"
   ]
  },
  {
   "cell_type": "code",
   "execution_count": 2,
   "id": "303277d3",
   "metadata": {},
   "outputs": [
    {
     "name": "stdout",
     "output_type": "stream",
     "text": [
      "hubo un error al conectar la base de datos 2003 (HY000): Can't connect to MySQL server on 'localhost:3306' (61)\n"
     ]
    }
   ],
   "source": [
    "import mysql.connector\n",
    "\n",
    "\n",
    "try:\n",
    "   conexion = mysql.connector.connect(\n",
    "       host = \"localhost\",\n",
    "       user = \"root\",\n",
    "       password = \"\",\n",
    "       database = \"sesion12\"\n",
    "   )\n",
    "   if conexion.is_connected():\n",
    "       print('la conexion fue exitosa')\n",
    "except mysql.connector.Error as e:\n",
    "   print(\"hubo un error al conectar la base de datos\",e)\n",
    "finally:\n",
    "   if conexion.is_connected():\n",
    "       conexion.close()"
   ]
  },
  {
   "cell_type": "code",
   "execution_count": null,
   "id": "49c4eafb",
   "metadata": {},
   "outputs": [],
   "source": [
    "# CRUD (CREATE ,READ , UPDATE , DELETE)"
   ]
  },
  {
   "cell_type": "code",
   "execution_count": null,
   "id": "923743d7",
   "metadata": {},
   "outputs": [],
   "source": [
    "import mysql.connector\n",
    "\n",
    "try:\n",
    "    conexion = mysql.connector.connect(\n",
    "        host = \"pdmmonitor.net\",\n",
    "        user = \"pdm_monitor\",\n",
    "        password = \"+Corel1410\",\n",
    "        database = \"pdm_monitor\"\n",
    "    )\n",
    "    if conexion.is_connected():\n",
    "        print('la conexion fue exitosa')\n",
    "except mysql.connector.Error as e:\n",
    "    print(\"hubo un error al conectar la base de datos\",e)\n",
    "finally:\n",
    "    if conexion.is_connected():\n",
    "        conexion.close()"
   ]
  },
  {
   "cell_type": "code",
   "execution_count": 6,
   "id": "179ff115",
   "metadata": {},
   "outputs": [],
   "source": [
    "#Estructura basica de conexion a una base de datos con python \n",
    "import mysql.connector\n",
    "\n",
    "try:\n",
    "    conexion = mysql.connector.connect(\n",
    "        host = \"pdmmonitor.net\",\n",
    "        user = \"pdm_monitor\",\n",
    "        password = \"+Corel1410\",\n",
    "        database = \"pdm_monitor\"\n",
    "    )\n",
    "    #algoritmo para insertar una tabla en mi base de datos \n",
    "        cursor = conexion.cursor()# link con la base datos\n",
    "finally:\n",
    "    if conexion.is_connected():\n",
    "        cursor.close()\n",
    "        conexion.close()"
   ]
  },
  {
   "cell_type": "code",
   "execution_count": 15,
   "id": "7c90318a",
   "metadata": {},
   "outputs": [
    {
     "ename": "IndentationError",
     "evalue": "unexpected indent (2151355241.py, line 12)",
     "output_type": "error",
     "traceback": [
      "\u001b[0;36m  Cell \u001b[0;32mIn[15], line 12\u001b[0;36m\u001b[0m\n\u001b[0;31m    cursor = conexion.cursor()# link con la base datos\u001b[0m\n\u001b[0m    ^\u001b[0m\n\u001b[0;31mIndentationError\u001b[0m\u001b[0;31m:\u001b[0m unexpected indent\n"
     ]
    }
   ],
   "source": [
    "#Estructura basica de conexion a una base de datos con python \n",
    "import mysql.connector\n",
    "\n",
    "try:\n",
    "    conexion = mysql.connector.connect(\n",
    "        host = \"pdmmonitor.net\",\n",
    "        user = \"pdm_monitor\",\n",
    "        password = \"+Corel1410\",\n",
    "        database = \"pdm_monitor\"\n",
    "    )\n",
    "    #algoritmo para insertar una tabla en mi base de datos \n",
    "    cursor = conexion.cursor()# link con la base datos\n",
    "    cursor.execute(\"\"\" CREATE TABLE gerentes (\n",
    "                            id INT AUTO_INCREMENT PRIMARY KEY,\n",
    "                            nombre VARCHAR(100),\n",
    "                            edad int\n",
    "                        )\"\"\")#cursor.execute(\"\"\" aqui dentro puede ir codigo mysql\"\"\")\n",
    "    print(\"la tabla se creo exitosamente\")\n",
    "except mysql.connector.Error as e:\n",
    "    print('hubo un error al crear la tabla ')\n",
    "finally:\n",
    "    if conexion.is_connected():\n",
    "        cursor.close()\n",
    "        conexion.close()"
   ]
  },
  {
   "cell_type": "code",
   "execution_count": 11,
   "id": "c6c43077",
   "metadata": {},
   "outputs": [
    {
     "name": "stdout",
     "output_type": "stream",
     "text": [
      "todo salio bien \n"
     ]
    }
   ],
   "source": [
    "#Estructura basica para insertar datos \n",
    "import mysql.connector\n",
    "\n",
    "try:\n",
    "    conexion = mysql.connector.connect(\n",
    "        host = \"pdmmonitor.net\",\n",
    "        user = \"pdm_monitor\",\n",
    "        password = \"+Corel1410\",\n",
    "        database = \"pdm_monitor\"\n",
    "    )\n",
    "    cursor = conexion.cursor()\n",
    "    cursor.execute(\"INSERT INTO gerentes(nombre,edad) VALUES (%s,%s) \" , ('Maria',30 ))\n",
    "    conexion.commit()\n",
    "    print(\"todo salio bien \")\n",
    "    #algoritmo para insertar una tabla en mi base de datos \n",
    "finally:\n",
    "    if conexion.is_connected():\n",
    "        cursor.close()\n",
    "        conexion.close()"
   ]
  },
  {
   "cell_type": "code",
   "execution_count": 13,
   "id": "efe91e03",
   "metadata": {},
   "outputs": [
    {
     "name": "stdout",
     "output_type": "stream",
     "text": [
      "(1, 'JUAN', 30)\n",
      "(2, 'Maria', 30)\n"
     ]
    }
   ],
   "source": [
    "#Estructura basica para consultar datos \n",
    "import mysql.connector\n",
    "\n",
    "try:\n",
    "    conexion = mysql.connector.connect(\n",
    "        host = \"pdmmonitor.net\",\n",
    "        user = \"pdm_monitor\",\n",
    "        password = \"+Corel1410\",\n",
    "        database = \"pdm_monitor\"\n",
    "    )\n",
    "    #algoritmo para consultar una tabla en mi base de datos \n",
    "    cursor = conexion.cursor()# link con la base datos\n",
    "    cursor.execute(\"SELECT * FROM gerentes\")\n",
    "    resultados = cursor.fetchall()\n",
    "    for fila in resultados:\n",
    "        print(fila)\n",
    "except mysql.connector.Error as e:\n",
    "    print('el execute fallo ')\n",
    "finally:\n",
    "    if conexion.is_connected():\n",
    "        cursor.close()\n",
    "        conexion.close()"
   ]
  },
  {
   "cell_type": "code",
   "execution_count": null,
   "id": "76dc3d68",
   "metadata": {},
   "outputs": [],
   "source": []
  }
 ],
 "metadata": {
  "kernelspec": {
   "display_name": "Python 3 (ipykernel)",
   "language": "python",
   "name": "python3"
  },
  "language_info": {
   "codemirror_mode": {
    "name": "ipython",
    "version": 3
   },
   "file_extension": ".py",
   "mimetype": "text/x-python",
   "name": "python",
   "nbconvert_exporter": "python",
   "pygments_lexer": "ipython3",
   "version": "3.11.7"
  }
 },
 "nbformat": 4,
 "nbformat_minor": 5
}
