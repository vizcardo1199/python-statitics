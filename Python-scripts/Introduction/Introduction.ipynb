{
 "cells": [
  {
   "cell_type": "code",
   "execution_count": 9,
   "id": "2c154feb",
   "metadata": {},
   "outputs": [
    {
     "name": "stdout",
     "output_type": "stream",
     "text": [
      "comenzando entrenamiento\n",
      "modelo entrenado\n",
      "[array([[1.8208652]], dtype=float32), array([29.247591], dtype=float32)]\n",
      "haciendo prediccion\n",
      "\u001b[1m1/1\u001b[0m \u001b[32m━━━━━━━━━━━━━━━━━━━━\u001b[0m\u001b[37m\u001b[0m \u001b[1m0s\u001b[0m 8ms/step\n",
      "[[211.3341]]\n"
     ]
    }
   ],
   "source": [
    "#introduccion de prediccion\n",
    "\n",
    "import tensorflow as tf\n",
    "import numpy as np\n",
    "\n",
    "celsius =    np.array([-40 , -10, 0  ,8 , 15 ,22 , 38],dtype=float)\n",
    "fahrenheit = np.array([-40 , 14 ,32, 46 , 59 ,72,100],dtype=float )\n",
    "capa = tf.keras.layers.Dense(units=1 , input_shape=[1])\n",
    "modelo = tf.keras.Sequential([capa])\n",
    "modelo.compile(\n",
    "   optimizer=tf.keras.optimizers.Adam(0.05),\n",
    "   loss='mean_squared_error'\n",
    ")\n",
    "\n",
    "print('comenzando entrenamiento')\n",
    "historial = modelo.fit(celsius , fahrenheit , epochs = 1000 ,verbose = False)\n",
    "print('modelo entrenado')\n",
    "\n",
    "print(capa.get_weights())\n",
    "print('haciendo prediccion')\n",
    "resultado = modelo.predict(np.array([[100.0]]))\n",
    "print(resultado)\n",
    "\n"
   ]
  },
  {
   "cell_type": "code",
   "execution_count": 4,
   "id": "05b34e44",
   "metadata": {},
   "outputs": [
    {
     "name": "stdout",
     "output_type": "stream",
     "text": [
      "212.0\n"
     ]
    }
   ],
   "source": [
    "def celsius_a_fahrenheit(celsius):\n",
    "    return celsius * 1.8 +32\n",
    "\n",
    "celsius_input = 100.00\n",
    "fahrenheit_output = celsius_a_fahrenheit(celsius_input)\n",
    "print(fahrenheit_output)"
   ]
  },
  {
   "cell_type": "code",
   "execution_count": 7,
   "id": "1e38b6e2",
   "metadata": {},
   "outputs": [
    {
     "name": "stdout",
     "output_type": "stream",
     "text": [
      "hello world\n"
     ]
    }
   ],
   "source": [
    "print('hello world')"
   ]
  },
  {
   "cell_type": "code",
   "execution_count": null,
   "id": "067964bc",
   "metadata": {},
   "outputs": [],
   "source": []
  }
 ],
 "metadata": {
  "kernelspec": {
   "display_name": "Python 3 (ipykernel)",
   "language": "python",
   "name": "python3"
  },
  "language_info": {
   "codemirror_mode": {
    "name": "ipython",
    "version": 3
   },
   "file_extension": ".py",
   "mimetype": "text/x-python",
   "name": "python",
   "nbconvert_exporter": "python",
   "pygments_lexer": "ipython3",
   "version": "3.11.7"
  }
 },
 "nbformat": 4,
 "nbformat_minor": 5
}
