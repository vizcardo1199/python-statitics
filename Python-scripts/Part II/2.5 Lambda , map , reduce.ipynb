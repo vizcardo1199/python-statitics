{
 "cells": [
  {
   "cell_type": "code",
   "execution_count": null,
   "metadata": {},
   "outputs": [],
   "source": [
    "# 1.Suma de Dos Números"
   ]
  },
  {
   "cell_type": "code",
   "execution_count": null,
   "metadata": {},
   "outputs": [],
   "source": [
    "# 2.Calcula el Cuadrado de un Número"
   ]
  },
  {
   "cell_type": "code",
   "execution_count": null,
   "metadata": {},
   "outputs": [],
   "source": [
    "# 3.Filtrado de Números Pares"
   ]
  },
  {
   "cell_type": "code",
   "execution_count": null,
   "metadata": {},
   "outputs": [],
   "source": [
    "# 4.Ordenar Lista de Tuplas por Segundo Elemento"
   ]
  },
  {
   "cell_type": "code",
   "execution_count": null,
   "metadata": {},
   "outputs": [],
   "source": [
    "# 5.Elevar al Cuadrado con map"
   ]
  },
  {
   "cell_type": "code",
   "execution_count": null,
   "metadata": {},
   "outputs": [],
   "source": [
    "# 6.Filtrar Palabras por Longitud"
   ]
  },
  {
   "cell_type": "code",
   "execution_count": null,
   "metadata": {},
   "outputs": [],
   "source": [
    "# 7.Calcular el Producto de Todos los Elementos con reduce"
   ]
  },
  {
   "cell_type": "code",
   "execution_count": null,
   "metadata": {},
   "outputs": [],
   "source": [
    "# Ejercicio \n",
    "estudiantes = [\n",
    "    {\"nombre\": \"Juan\", \"edad\": 20, \"nota_matematicas\": 85, \"nota_lenguaje\": 78, \"ciudad\": \"Lima\"},\n",
    "    {\"nombre\": \"Ana\", \"edad\": 22, \"nota_matematicas\": 90, \"nota_lenguaje\": 92, \"ciudad\": \"Lima\"},\n",
    "    {\"nombre\": \"Luis\", \"edad\": 21, \"nota_matematicas\": 70, \"nota_lenguaje\": 85, \"ciudad\": \"Cusco\"},\n",
    "    {\"nombre\": \"Maria\", \"edad\": 20, \"nota_matematicas\": 88, \"nota_lenguaje\": 80, \"ciudad\": \"Lima\"},\n",
    "    {\"nombre\": \"Carlos\", \"edad\": 23, \"nota_matematicas\": 95, \"nota_lenguaje\": 90, \"ciudad\": \"Arequipa\"},\n",
    "]\n",
    "# Promedio de Edad\n",
    "# Promedio de Notas en Matemáticas\n",
    "# Número de Estudiantes por Ciudad\n",
    "# Estudiantes con Nota Mayor a 80 en Lenguaje\n",
    "# Calificación Promedio Total por Estudiante\n",
    "# Estudiante con la Nota Más Alta en Matemáticas\n",
    "# Ordenar Estudiantes por Edad"
   ]
  },
  {
   "cell_type": "code",
   "execution_count": 1,
   "metadata": {},
   "outputs": [
    {
     "name": "stdout",
     "output_type": "stream",
     "text": [
      "Requirement already satisfied: mysql-connector-python in /opt/anaconda3/lib/python3.11/site-packages (9.1.0)\n",
      "Note: you may need to restart the kernel to use updated packages.\n"
     ]
    }
   ],
   "source": [
    "pip install mysql-connector-python"
   ]
  },
  {
   "cell_type": "code",
   "execution_count": null,
   "metadata": {},
   "outputs": [],
   "source": []
  }
 ],
 "metadata": {
  "kernelspec": {
   "display_name": "Python 3 (ipykernel)",
   "language": "python",
   "name": "python3"
  },
  "language_info": {
   "codemirror_mode": {
    "name": "ipython",
    "version": 3
   },
   "file_extension": ".py",
   "mimetype": "text/x-python",
   "name": "python",
   "nbconvert_exporter": "python",
   "pygments_lexer": "ipython3",
   "version": "3.11.7"
  }
 },
 "nbformat": 4,
 "nbformat_minor": 2
}
