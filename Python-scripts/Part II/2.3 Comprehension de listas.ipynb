{
 "cells": [
  {
   "cell_type": "code",
   "execution_count": null,
   "id": "fa90f8f7",
   "metadata": {},
   "outputs": [],
   "source": [
    "# 1.Crear una lista de cuadrados de números"
   ]
  },
  {
   "cell_type": "code",
   "execution_count": null,
   "id": "3ca03d89",
   "metadata": {},
   "outputs": [],
   "source": [
    "# 2.Filtrar números pares de una lista"
   ]
  },
  {
   "cell_type": "code",
   "execution_count": null,
   "id": "667a698b",
   "metadata": {},
   "outputs": [],
   "source": [
    "# 3.Convertir palabras a mayúsculas"
   ]
  },
  {
   "cell_type": "code",
   "execution_count": null,
   "id": "dd6f1d4a",
   "metadata": {},
   "outputs": [],
   "source": [
    "# 4.Crear una lista de números al cubo"
   ]
  },
  {
   "cell_type": "code",
   "execution_count": null,
   "id": "0b346d6f",
   "metadata": {},
   "outputs": [],
   "source": [
    "# 5.Calcular las desviaciones respecto a la media"
   ]
  },
  {
   "cell_type": "code",
   "execution_count": null,
   "id": "b0134f78",
   "metadata": {},
   "outputs": [],
   "source": [
    "# 6.Calcular varianza"
   ]
  },
  {
   "cell_type": "code",
   "execution_count": null,
   "id": "c7f45cc0",
   "metadata": {},
   "outputs": [],
   "source": [
    "# 7.Calcular el valor absoluto de las diferencias"
   ]
  }
 ],
 "metadata": {
  "kernelspec": {
   "display_name": "Python 3 (ipykernel)",
   "language": "python",
   "name": "python3"
  },
  "language_info": {
   "codemirror_mode": {
    "name": "ipython",
    "version": 3
   },
   "file_extension": ".py",
   "mimetype": "text/x-python",
   "name": "python",
   "nbconvert_exporter": "python",
   "pygments_lexer": "ipython3",
   "version": "3.11.7"
  }
 },
 "nbformat": 4,
 "nbformat_minor": 5
}
