{
 "cells": [
  {
   "cell_type": "code",
   "execution_count": 3,
   "id": "208713f1",
   "metadata": {},
   "outputs": [
    {
     "name": "stdout",
     "output_type": "stream",
     "text": [
      "24\n"
     ]
    }
   ],
   "source": [
    "# sumar todos los elementos de una lista\n",
    "'''\n",
    "estructura basica de una funcion\n",
    "def nombre_de_la_funcion(v1,v2,...,vn):\n",
    "    el codigo\n",
    "    return lo que quieras devolver al ejecutar la funcion\n",
    "'''\n",
    "\n",
    "#defino una funcion\n",
    "def suma_lista(lista):\n",
    "    return sum(lista)\n",
    "\n",
    "# definir una lista\n",
    "lista1 = [1 , 2 ,3 ,4 ,5]\n",
    "lista4 = [ 1 ,3 ,5]\n",
    "suma_de_la_lista1 =suma_lista(lista1)\n",
    "suma_de_la_lista4 =suma_lista(lista4)\n",
    "\n",
    "# for i in lista hacer el algoritmo de suma de un vector\n",
    "   # suma = suma +lista[i-1]\n",
    "    \n",
    "print(suma_de_la_lista1 + suma_de_la_lista4)"
   ]
  },
  {
   "cell_type": "code",
   "execution_count": 5,
   "id": "f17e8f56",
   "metadata": {},
   "outputs": [
    {
     "name": "stdout",
     "output_type": "stream",
     "text": [
      "300\n"
     ]
    }
   ],
   "source": [
    "#encontrar el mayor de una lista\n",
    "def mayor_lista(vector):\n",
    "    maximo = vector[0]\n",
    "    for i in vector:\n",
    "        if i > maximo:\n",
    "            maximo = i\n",
    "    return maximo # es lo que devuelve la funcion al ejecutarse\n",
    "\n",
    "lista1 = [1,300,212,21,1,1]\n",
    "print(mayor_lista(lista1))\n",
    "\n",
    "#encuentren el minimo de una lista"
   ]
  },
  {
   "cell_type": "code",
   "execution_count": 9,
   "id": "1370e506",
   "metadata": {},
   "outputs": [
    {
     "name": "stdout",
     "output_type": "stream",
     "text": [
      "ingresa un valor n 1\n",
      "ingresa un valor m2\n",
      "ingresa un valor m3\n",
      "7\n"
     ]
    }
   ],
   "source": [
    "# la suma de 2 numeros\n",
    "\n",
    "def suma(a,b,c):\n",
    "    return a+b*c\n",
    "\n",
    "\n",
    "n = int(input('ingresa un valor n '))\n",
    "m = int(input('ingresa un valor m'))\n",
    "p = int(input('ingresa un valor m'))\n",
    "#print(suma(3,2,1))\n",
    "print(suma(n,m,p))"
   ]
  },
  {
   "cell_type": "code",
   "execution_count": 2,
   "id": "ab096722",
   "metadata": {},
   "outputs": [
    {
     "name": "stdout",
     "output_type": "stream",
     "text": [
      "ingresa la operacion3\n"
     ]
    }
   ],
   "source": [
    "# creen funciones suma , resta , division y potencia de 2 numeros\n",
    "\n",
    "#funcion suma \n",
    "def suma(a,b):\n",
    "    return a+b\n",
    "\n",
    "#funcion resta \n",
    "def resta(a,b):\n",
    "    return a-b\n",
    "\n",
    "#funcion division\n",
    "def division(a,b):\n",
    "    return a/b\n",
    "\n",
    "#funcion potencia \n",
    "def potencia(a,b):\n",
    "    return a**b\n",
    "\n",
    "operacion = input('ingresa la operacion')\n",
    "#elegir la operacion\n"
   ]
  },
  {
   "cell_type": "code",
   "execution_count": 3,
   "id": "fc3d097d",
   "metadata": {},
   "outputs": [
    {
     "name": "stdout",
     "output_type": "stream",
     "text": [
      "7\n"
     ]
    }
   ],
   "source": [
    "print(suma(3,4))"
   ]
  },
  {
   "cell_type": "code",
   "execution_count": 7,
   "id": "7e7412ce",
   "metadata": {},
   "outputs": [
    {
     "name": "stdout",
     "output_type": "stream",
     "text": [
      "la media por columna es :  [80.1  81.3  79.85 83.85]\n",
      "la media por fila es :  [89.   82.25 89.   66.75 83.25 85.75 87.75 74.5  81.75 72.75 92.25 63.25\n",
      " 85.5  82.5  72.5  74.5  90.25 84.5  75.75 91.75]\n"
     ]
    }
   ],
   "source": [
    "import numpy as np\n",
    "# definir una funcion de media de una matriz por columna\n",
    "def calculate_media_columna(vector):\n",
    "    np_matrix= np.array(vector)\n",
    "    return np.mean(np_matrix , axis = 0)\n",
    "\n",
    "# definir una funcion de media de una matriz por fila \n",
    "def calculate_media_fila(vector):\n",
    "    np_matrix= np.array(vector)\n",
    "    return np.mean(np_matrix , axis = 1)\n",
    "\n",
    "#definir las funciones de varianza , desviacion estandar , maximo y minimo por fila y por columna percentil 25 y 75,\n",
    "#rendimiento con coeficiente de correlacion\n",
    "\n",
    "estadistica = [\n",
    "[85, 93, 83, 95],\n",
    "[83, 75, 81, 90],\n",
    "[89, 88, 91, 88],\n",
    "[62, 71, 69, 65],\n",
    "[75, 83, 88, 87],\n",
    "[90, 86, 82, 85],\n",
    "[91, 89, 79, 92],\n",
    "[77, 72, 68, 81],\n",
    "[82, 87, 74, 84],\n",
    "[71, 74, 71, 75],\n",
    "[92, 95, 87, 95],\n",
    "[61, 60, 65, 67],\n",
    "[85, 85, 85, 87],\n",
    "[81, 76, 90, 83],\n",
    "[73, 74, 69, 74],\n",
    "[70, 70, 75, 83],\n",
    "[86, 95, 93, 87],\n",
    "[88, 81, 79, 90],\n",
    "[71, 78, 76, 78],\n",
    "[90, 94, 92, 91]\n",
    "]\n",
    "\n",
    "column_mean = calculate_media_columna(calificaciones)\n",
    "print('la media por columna es : ',column_mean)\n",
    "\n",
    "fila_mean = calculate_media_fila(calificaciones)\n",
    "print('la media por fila es : ',fila_mean)"
   ]
  },
  {
   "cell_type": "code",
   "execution_count": null,
   "id": "31dd0fef",
   "metadata": {},
   "outputs": [],
   "source": [
    "\n",
    "\n",
    "HISTORIA :\n",
    "[89, 86, 75, 91],\n",
    "[84, 81, 86, 88],\n",
    "[90, 93, 91, 87],\n",
    "[68, 76, 72, 67],\n",
    "[84, 79, 93, 87],\n",
    "[83, 86, 77, 86],\n",
    "[89, 91, 74, 95],\n",
    "[73, 69, 75, 76],\n",
    "[85, 87, 82, 79],\n",
    "[76, 65, 72, 73],\n",
    "[98, 92, 88, 99],\n",
    "[65, 59, 66, 70],\n",
    "[93, 89, 82, 91],\n",
    "[85, 85, 81, 85],\n",
    "[79, 75, 76, 73],\n",
    "[68, 68, 77, 84],\n",
    "[85, 86, 95, 86],\n",
    "[83, 82, 81, 85],\n",
    "[74, 77, 79, 75],\n",
    "[94, 91, 89, 97]\n",
    "\n",
    "ALGEBRA :\n",
    "[89, 87, 73, 90],\n",
    "[91, 75, 86, 94],\n",
    "[91, 88, 96, 85],\n",
    "[69, 71, 70, 62],\n",
    "[82, 81, 91, 84],\n",
    "[87, 95, 78, 90],\n",
    "[89, 91, 72, 91],\n",
    "[82, 76, 70, 82],\n",
    "[84, 83, 82, 78],\n",
    "[70, 70, 65, 71],\n",
    "[95, 92, 90, 92],\n",
    "[58, 65, 60, 72],\n",
    "[90, 86, 88, 87],\n",
    "[80, 76, 87, 87],\n",
    "[74, 71, 75, 75],\n",
    "[69, 77, 75, 80],\n",
    "[84, 95, 89, 92],\n",
    "[83, 88, 87, 81],\n",
    "[76, 77, 74, 78],\n",
    "[90, 95, 83, 99],"
   ]
  },
  {
   "cell_type": "code",
   "execution_count": null,
   "id": "5a514827",
   "metadata": {},
   "outputs": [],
   "source": []
  },
  {
   "cell_type": "code",
   "execution_count": null,
   "id": "c3f93852",
   "metadata": {},
   "outputs": [],
   "source": []
  },
  {
   "cell_type": "code",
   "execution_count": null,
   "id": "299b5ccc",
   "metadata": {},
   "outputs": [],
   "source": []
  }
 ],
 "metadata": {
  "kernelspec": {
   "display_name": "Python 3 (ipykernel)",
   "language": "python",
   "name": "python3"
  },
  "language_info": {
   "codemirror_mode": {
    "name": "ipython",
    "version": 3
   },
   "file_extension": ".py",
   "mimetype": "text/x-python",
   "name": "python",
   "nbconvert_exporter": "python",
   "pygments_lexer": "ipython3",
   "version": "3.11.7"
  }
 },
 "nbformat": 4,
 "nbformat_minor": 5
}
