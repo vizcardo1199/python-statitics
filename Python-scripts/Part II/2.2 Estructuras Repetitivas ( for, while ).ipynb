{
 "cells": [
  {
   "cell_type": "code",
   "execution_count": 4,
   "id": "a277e720",
   "metadata": {},
   "outputs": [
    {
     "name": "stdout",
     "output_type": "stream",
     "text": [
      "1\n",
      "8\n",
      "27\n",
      "64\n",
      "125\n",
      "216\n",
      "343\n",
      "512\n",
      "729\n",
      "1000\n"
     ]
    }
   ],
   "source": [
    "# 1.Imprimir números del 1 al 10\n",
    "for i in range(1,11):\n",
    "    print(i**3)"
   ]
  },
  {
   "cell_type": "code",
   "execution_count": 6,
   "id": "0a775b6d",
   "metadata": {},
   "outputs": [
    {
     "name": "stdout",
     "output_type": "stream",
     "text": [
      "ingresa la cantidad de numeros5\n",
      "la suma total es : 15\n"
     ]
    }
   ],
   "source": [
    "# 2.Suma de los primeros n números\n",
    "n = int(input('ingresa la cantidad de numeros'))\n",
    "suma = 0\n",
    "for i in range(1,n+1):\n",
    "    suma = suma + i # suma += i \n",
    "\n",
    "print(\"la suma total es :\" ,suma)"
   ]
  },
  {
   "cell_type": "code",
   "execution_count": 7,
   "id": "6d26dc77",
   "metadata": {},
   "outputs": [
    {
     "name": "stdout",
     "output_type": "stream",
     "text": [
      "Ingresa la tabla que desee 5\n",
      "5 x 1 = 5\n",
      "5 x 2 = 10\n",
      "5 x 3 = 15\n",
      "5 x 4 = 20\n",
      "5 x 5 = 25\n",
      "5 x 6 = 30\n",
      "5 x 7 = 35\n",
      "5 x 8 = 40\n",
      "5 x 9 = 45\n",
      "5 x 10 = 50\n",
      "5 x 11 = 55\n",
      "5 x 12 = 60\n"
     ]
    }
   ],
   "source": [
    "# 3.Tabla de multiplicar\n",
    "# 1 x1 = 1 \n",
    "# 1 x2 = 2\n",
    "\n",
    "n = int(input('Ingresa la tabla que desee '))\n",
    "\n",
    "for i in range(1,13):\n",
    "    print(f\"{n} x {i} = {n*i}\") # f\"{variable1} cualquier texto {variable2}\"\n",
    "    "
   ]
  },
  {
   "cell_type": "code",
   "execution_count": null,
   "id": "5f6d93eb",
   "metadata": {},
   "outputs": [],
   "source": [
    "# 4.Números 20  pares en un 2 ,4 ,6 ,8 ...\n"
   ]
  },
  {
   "cell_type": "code",
   "execution_count": 8,
   "id": "aff046cc",
   "metadata": {},
   "outputs": [
    {
     "name": "stdout",
     "output_type": "stream",
     "text": [
      "ingrese el numero factorial6\n",
      "720\n"
     ]
    }
   ],
   "source": [
    "# 5.Factorial de un número\n",
    "# 4! = 4 x 3 x 2 x 1\n",
    "n = int(input('ingrese el numero factorial'))\n",
    "factorial = 1\n",
    "for i in range(1,n+1):\n",
    "    factorial = factorial * i\n",
    "    \n",
    "\n",
    "print(factorial)\n"
   ]
  },
  {
   "cell_type": "code",
   "execution_count": 12,
   "id": "5479b585",
   "metadata": {},
   "outputs": [
    {
     "name": "stdout",
     "output_type": "stream",
     "text": [
      "10\n",
      "20\n",
      "30\n",
      "40\n",
      "50\n",
      "150\n"
     ]
    }
   ],
   "source": [
    "# Media de una lista de numeros \n",
    "lista = [10 , 20 , 30 , 40 ,50]\n",
    "# la suma de la lista y el numero de componentes de la lista \n",
    "n_datos = len(lista)\n",
    "#print(n_datos)\n",
    "suma = 0\n",
    "for i in lista: # i va a recorrer los elementos del vector 1 x 1\n",
    "    suma = suma+i\n",
    "    #print(i)\n",
    "    \n",
    "print(suma)\n",
    "media = suma / n_datos"
   ]
  },
  {
   "cell_type": "code",
   "execution_count": 3,
   "id": "0fd50076",
   "metadata": {},
   "outputs": [
    {
     "name": "stdout",
     "output_type": "stream",
     "text": [
      "150\n",
      "200.0\n",
      "14.142135623730951\n"
     ]
    }
   ],
   "source": [
    "import math as m\n",
    "\n",
    "# varianza de una lista de numeros\n",
    "lista = [10 , 20 , 30 , 40 ,50]\n",
    "# la suma de la lista y el numero de componentes de la lista \n",
    "n_datos = len(lista)\n",
    "#print(n_datos)\n",
    "suma = 0\n",
    "for i in lista: # i va a recorrer los elementos del vector 1 x 1\n",
    "    suma = suma+i\n",
    "    #print(i)\n",
    "    \n",
    "print(suma)\n",
    "media = suma / n_datos\n",
    "\n",
    "suma2=0\n",
    "for i in lista:\n",
    "    suma2 = suma2 + (i-media)**2\n",
    "    \n",
    "varianza = suma2 / n_datos\n",
    "print(varianza)\n",
    "\n",
    "#hallar la desviacion estandar\n",
    "#desviacion = varianza ** 2\n",
    "desviacion = m.sqrt(varianza)\n",
    "print(desviacion)"
   ]
  },
  {
   "cell_type": "code",
   "execution_count": 5,
   "id": "57ff1c9c",
   "metadata": {},
   "outputs": [
    {
     "name": "stdout",
     "output_type": "stream",
     "text": [
      "50\n",
      "10\n"
     ]
    }
   ],
   "source": [
    "# maximo y minimo de la lista\n",
    "lista = [10 , 20 , 30 , 40 ,50]\n",
    "maximo = lista[0] #10\n",
    "minimo = lista[0] #10\n",
    "for i in lista:\n",
    "    if i > maximo:\n",
    "        maximo = i\n",
    "    elif i < minimo:\n",
    "        minimo = i \n",
    "\n",
    "print(maximo)\n",
    "print(minimo)\n",
    "\n"
   ]
  },
  {
   "cell_type": "code",
   "execution_count": 20,
   "id": "3ad296b9",
   "metadata": {},
   "outputs": [
    {
     "name": "stdout",
     "output_type": "stream",
     "text": [
      "el valor del medio del vector 40\n",
      "45.0\n"
     ]
    }
   ],
   "source": [
    "#hallar la mediana \n",
    "lista = [10 , 20 , 50 , 40 ,30,70]\n",
    "#para ordenar una lista [n // 2]\n",
    "lista.sort()\n",
    "\n",
    "n=len(lista)\n",
    "print('el valor del medio del vector' , lista[n//2]) \n",
    "if n%2 ==0: # \"% operador modulo para hallar residuo\"\n",
    "    mediana = (lista[n//2]+lista[(n//2)+1])/2\n",
    "    print(mediana)\n",
    "else:\n",
    "    mediana = lista[n//2]\n",
    "    print(mediana)"
   ]
  },
  {
   "cell_type": "code",
   "execution_count": 1,
   "id": "2e509193",
   "metadata": {},
   "outputs": [],
   "source": [
    "# hallar la moda \n",
    "numeros = [10, 20, 10, 30, 20, 40, 50, 10]\n",
    "frecuencia = {}\n",
    "for numero in numeros:\n",
    "    frecuencia[numero] = frecuencia.get(numero, 0) + 1\n",
    "moda = max(frecuencia, key=frecuencia.get)\n",
    "print(\"La moda es:\", moda)"
   ]
  },
  {
   "cell_type": "code",
   "execution_count": null,
   "id": "822ebcdf",
   "metadata": {},
   "outputs": [],
   "source": [
    "#hallar el maximo y el minimo"
   ]
  },
  {
   "cell_type": "code",
   "execution_count": 7,
   "id": "c1dc4ca1",
   "metadata": {},
   "outputs": [
    {
     "name": "stdout",
     "output_type": "stream",
     "text": [
      "83.65\n",
      "310.83500000000015\n"
     ]
    }
   ],
   "source": [
    "# Datos de calificaciones de 20 estudiantes en 4 exámenes media mediana varianza , desviacion estandar , maximo y minimo\n",
    "calificaciones = [\n",
    "    [85, 90, 78, 92],\n",
    "    [88, 76, 85, 91],\n",
    "    [92, 89, 93, 85],\n",
    "    [67, 72, 70, 65],\n",
    "    [80, 78, 88, 84],\n",
    "    [85, 91, 82, 89],\n",
    "    [90, 88, 76, 95],\n",
    "    [78, 74, 70, 80],\n",
    "    [81, 85, 77, 79],\n",
    "    [73, 70, 68, 72],\n",
    "    [95, 94, 92, 96],\n",
    "    [60, 62, 65, 68],\n",
    "    [88, 87, 85, 90],\n",
    "    [83, 80, 85, 84],\n",
    "    [77, 76, 74, 75],\n",
    "    [70, 72, 78, 79],\n",
    "    [88, 90, 91, 89],\n",
    "    [85, 83, 82, 86],\n",
    "    [76, 78, 79, 80],\n",
    "    [92, 90, 88, 94]\n",
    "]\n",
    "\n",
    "#calcular la media\n",
    "for columna in range(4):\n",
    "    suma = 0\n",
    "    for fila in range(len(calificaciones)):\n",
    "        suma = suma + calificaciones[fila][columna]\n",
    "        \n",
    "    media = suma / len(calificaciones)\n",
    "\n",
    "print(media)\n",
    "\n",
    "#varianza\n",
    "suma_cuadrados = 0\n",
    "for columna in range(4):\n",
    "    for fila in range(len(calificaciones)):\n",
    "        suma_cuadrados = suma_cuadrados + (calificaciones[fila][columna]-media) ** 2\n",
    "    \n",
    "    varianza =suma_cuadrados / len(calificaciones)\n",
    "    \n",
    "print(varianza)\n"
   ]
  },
  {
   "cell_type": "code",
   "execution_count": 15,
   "id": "95544d3d",
   "metadata": {},
   "outputs": [
    {
     "name": "stdout",
     "output_type": "stream",
     "text": [
      "20\n",
      "4\n"
     ]
    }
   ],
   "source": [
    "# Datos de calificaciones de 20 estudiantes en 4 exámenes media mediana varianza , desviacion estandar , maximo y minimo\n",
    "calificaciones = [\n",
    "    #0.   1.  2.  3\n",
    "    [85, 90, 78, 92],\n",
    "    [88, 76, 85, 91],\n",
    "    [92, 89, 93, 85],\n",
    "    [67, 72, 70, 65],\n",
    "    [80, 78, 88, 84],\n",
    "    [85, 91, 82, 89],\n",
    "    [90, 88, 76, 95],\n",
    "    [78, 74, 70, 80],\n",
    "    [81, 85, 77, 79],\n",
    "    [73, 70, 68, 72],\n",
    "    [95, 94, 92, 96],\n",
    "    [60, 62, 65, 68],\n",
    "    [88, 87, 85, 90],\n",
    "    [83, 80, 85, 84],\n",
    "    [77, 76, 74, 75],\n",
    "    [70, 72, 78, 79],\n",
    "    [88, 90, 91, 89],\n",
    "    [85, 83, 82, 86],\n",
    "    [76, 78, 79, 80],\n",
    "    [92, 90, 88, 94]\n",
    "]\n",
    "\n",
    "#sumar cada columna \n",
    "for columna in range(4): # 4 por el numero de columnas\n",
    "    suma_columna = 0 \n",
    "    for fila in calificaciones:\n",
    "        suma_columna = suma_columna+fila[columna]\n",
    "    #print(suma_columna)\n",
    "    \n",
    "# sumar cada fila \n",
    "for fila in calificaciones:\n",
    "    suma=0\n",
    "    for valor in fila:\n",
    "        suma+= valor\n",
    "    #print(suma)\n",
    "\n",
    "\n",
    "print(len(calificaciones)) # hallas las filas \n",
    "print(len(calificaciones[0]))# hallar las columnas\n",
    "\n",
    "\n"
   ]
  },
  {
   "cell_type": "code",
   "execution_count": 13,
   "id": "9b8c2d36",
   "metadata": {},
   "outputs": [
    {
     "name": "stdout",
     "output_type": "stream",
     "text": [
      "1\n",
      "2\n",
      "3\n",
      "4\n",
      "5\n",
      "6\n",
      "7\n",
      "8\n",
      "9\n",
      "10\n"
     ]
    }
   ],
   "source": [
    "#imprimir los 10 primeros numeros\n",
    "contador = 1\n",
    "while contador <= 10:\n",
    "    print(contador)\n",
    "    contador = contador + 1"
   ]
  },
  {
   "cell_type": "code",
   "execution_count": 16,
   "id": "e91cd6d8",
   "metadata": {},
   "outputs": [
    {
     "name": "stdout",
     "output_type": "stream",
     "text": [
      "55\n"
     ]
    }
   ],
   "source": [
    "#suma de numeros del 1 al 10\n",
    "suma = 0\n",
    "contador = 1 \n",
    "while contador <=10:\n",
    "    suma += contador # es igual a : suma = suma + contador\n",
    "    contador += 1\n",
    "\n",
    "print(suma)"
   ]
  },
  {
   "cell_type": "code",
   "execution_count": 21,
   "id": "d396c0d2",
   "metadata": {},
   "outputs": [
    {
     "name": "stdout",
     "output_type": "stream",
     "text": [
      "1\n",
      "3\n",
      "5\n",
      "7\n",
      "9\n",
      "11\n",
      "13\n",
      "15\n",
      "17\n",
      "19\n"
     ]
    }
   ],
   "source": [
    "#imprimir los impares del 1 al 20\n",
    "contador = 1\n",
    "while contador <= 20:\n",
    "    if contador % 2 != 0: # != diferente , == igual\n",
    "        print(contador)\n",
    "    else: pass # sale de las condicionales\n",
    "    contador+=1\n",
    "    \n"
   ]
  },
  {
   "cell_type": "code",
   "execution_count": 23,
   "id": "cd0fed4d",
   "metadata": {},
   "outputs": [
    {
     "name": "stdout",
     "output_type": "stream",
     "text": [
      "ingresa un valor n17\n",
      "2\n",
      "4\n",
      "6\n",
      "8\n",
      "10\n",
      "12\n",
      "14\n",
      "16\n"
     ]
    }
   ],
   "source": [
    "#impriman los pares del 1 al n , soliciten el n\n",
    "n = int(input('ingresa un valor n'))\n",
    "contador = 1 \n",
    "while contador <= n:\n",
    "    if contador % 2 ==0:\n",
    "        print(contador)\n",
    "    contador += 1"
   ]
  },
  {
   "cell_type": "code",
   "execution_count": 24,
   "id": "8f1acd30",
   "metadata": {},
   "outputs": [
    {
     "name": "stdout",
     "output_type": "stream",
     "text": [
      "10\n",
      "9\n",
      "8\n",
      "7\n",
      "6\n",
      "5\n",
      "4\n",
      "3\n",
      "2\n",
      "1\n"
     ]
    }
   ],
   "source": [
    "#contador regresivo desde 10\n",
    "contador = 10\n",
    "while contador > 0:\n",
    "    print(contador)\n",
    "    contador -= 1 # contador = contador -1\n",
    "\n",
    "#contador regresivo , soliciten desde n\n",
    "\n",
    "\n"
   ]
  },
  {
   "cell_type": "code",
   "execution_count": 25,
   "id": "f76e07b2",
   "metadata": {},
   "outputs": [
    {
     "name": "stdout",
     "output_type": "stream",
     "text": [
      "20\n",
      "19\n",
      "18\n",
      "17\n",
      "16\n",
      "15\n",
      "14\n",
      "13\n",
      "12\n",
      "11\n",
      "10\n",
      "9\n",
      "8\n",
      "6\n",
      "5\n",
      "4\n",
      "2\n",
      "1\n"
     ]
    }
   ],
   "source": [
    "#contador regresivo desde 20 , pero que se sale 7 y 3\n",
    "n = 20\n",
    "while n>0:\n",
    "    if n!=7 and n!=3:\n",
    "        print(n)\n",
    "    n -=1"
   ]
  },
  {
   "cell_type": "code",
   "execution_count": 26,
   "id": "7b3528a9",
   "metadata": {},
   "outputs": [
    {
     "name": "stdout",
     "output_type": "stream",
     "text": [
      "ingresa un numero5\n",
      "120\n"
     ]
    }
   ],
   "source": [
    "#factorial de un numero  n! = 1 x 2 x 3 x ... x n\n",
    "numero = int(input(\"ingresa un numero\"))\n",
    "\n",
    "factorial = 1\n",
    "contador = 1\n",
    "\n",
    "while contador <= numero:\n",
    "    factorial = factorial * contador # factorial *= contador\n",
    "    contador = contador +1\n",
    "    \n",
    "print(factorial)"
   ]
  },
  {
   "cell_type": "code",
   "execution_count": 28,
   "id": "b7a2b585",
   "metadata": {},
   "outputs": [
    {
     "name": "stdout",
     "output_type": "stream",
     "text": [
      "introduce la base4\n",
      "introduce el exponente3\n",
      "64\n"
     ]
    }
   ],
   "source": [
    "#calculen la potencia base y el exponente\n",
    "base = int(input('introduce la base'))\n",
    "exponente = int(input('introduce el exponente'))\n",
    "resultado = 1 \n",
    "contador = 0\n",
    "\n",
    "while contador < exponente:\n",
    "    resultado *= base # resultado = resultado * base\n",
    "    contador +=1\n",
    "    \n",
    "print(resultado)\n",
    "\n"
   ]
  },
  {
   "cell_type": "code",
   "execution_count": 29,
   "id": "7a65d25f",
   "metadata": {},
   "outputs": [
    {
     "name": "stdout",
     "output_type": "stream",
     "text": [
      "100\n"
     ]
    }
   ],
   "source": [
    "# suma de los 20 primeros impares\n",
    "suma = 0\n",
    "contador = 1\n",
    "\n",
    "while contador <= 20:\n",
    "    if contador % 2 !=0:\n",
    "        suma = suma+contador\n",
    "    contador +=1\n",
    "    \n",
    "print(suma)"
   ]
  },
  {
   "cell_type": "code",
   "execution_count": null,
   "id": "b82cf358",
   "metadata": {},
   "outputs": [],
   "source": []
  }
 ],
 "metadata": {
  "kernelspec": {
   "display_name": "Python 3 (ipykernel)",
   "language": "python",
   "name": "python3"
  },
  "language_info": {
   "codemirror_mode": {
    "name": "ipython",
    "version": 3
   },
   "file_extension": ".py",
   "mimetype": "text/x-python",
   "name": "python",
   "nbconvert_exporter": "python",
   "pygments_lexer": "ipython3",
   "version": "3.11.7"
  }
 },
 "nbformat": 4,
 "nbformat_minor": 5
}
