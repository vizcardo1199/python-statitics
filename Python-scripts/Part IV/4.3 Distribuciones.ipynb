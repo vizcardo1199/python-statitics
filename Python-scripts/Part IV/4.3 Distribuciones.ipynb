{
 "cells": [
  {
   "cell_type": "code",
   "execution_count": 4,
   "metadata": {},
   "outputs": [
    {
     "name": "stdout",
     "output_type": "stream",
     "text": [
      "Análisis Descriptivo de Ventas\n",
      "Media de Ventas: 209.0\n",
      "Mediana de Ventas: 202.5\n",
      "Desviación Estándar de Ventas: 60.92704869889805\n",
      "Varianza de Ventas: 3712.1052631578946\n",
      "Rango de Ventas: 200\n",
      "\n",
      "Cuartiles de Ventas:\n",
      "0.25    167.5\n",
      "0.50    202.5\n",
      "0.75    240.0\n",
      "Name: Ventas, dtype: float64\n",
      "\n",
      "Análisis Descriptivo de Ingresos Totales\n",
      "Media de Ingresos Totales: 2022.375\n",
      "Mediana de Ingresos Totales: 1955.0\n",
      "Desviación Estándar de Ingresos Totales: 418.64794514446646\n",
      "Varianza de Ingresos Totales: 175266.1019736842\n",
      "Rango de Ingresos Totales: 1325.0\n",
      "\n",
      "Cuartiles de Ingresos Totales:\n",
      "0.25    1747.5\n",
      "0.50    1955.0\n",
      "0.75    2400.0\n",
      "Name: Ingresos_Totales, dtype: float64\n",
      "\n",
      "Resumen Estadístico General:\n",
      "           Ventas  Precio_Unitario  Ingresos_Totales\n",
      "count   20.000000        20.000000         20.000000\n",
      "mean   209.000000        10.000000       2022.375000\n",
      "std     60.927049         1.597696        418.647945\n",
      "min    120.000000         7.000000       1375.000000\n",
      "25%    167.500000         8.875000       1747.500000\n",
      "50%    202.500000        10.250000       1955.000000\n",
      "75%    240.000000        11.125000       2400.000000\n",
      "max    320.000000        12.500000       2700.000000\n"
     ]
    }
   ],
   "source": [
    "import pandas as pd\n",
    "\n",
    "# Cargar el archivo de Excel\n",
    "file_path = 'estadistica_descriptiva_datos_reales.xlsx'\n",
    "df = pd.read_excel(file_path)\n",
    "\n",
    "# Análisis Descriptivo de la columna 'Ventas'\n",
    "print(\"Análisis Descriptivo de Ventas\")\n",
    "print(\"Media de Ventas:\", df['Ventas'].mean())\n",
    "print(\"Mediana de Ventas:\", df['Ventas'].median())\n",
    "print(\"Desviación Estándar de Ventas:\", df['Ventas'].std())\n",
    "print(\"Varianza de Ventas:\", df['Ventas'].var())\n",
    "print(\"Rango de Ventas:\", df['Ventas'].max() - df['Ventas'].min())\n",
    "\n",
    "# Análisis de cuartiles para 'Ventas'\n",
    "print(\"\\nCuartiles de Ventas:\")\n",
    "print(df['Ventas'].quantile([0.25, 0.5, 0.75]))\n",
    "\n",
    "# Análisis Descriptivo de 'Ingresos Totales'\n",
    "print(\"\\nAnálisis Descriptivo de Ingresos Totales\")\n",
    "print(\"Media de Ingresos Totales:\", df['Ingresos_Totales'].mean())\n",
    "print(\"Mediana de Ingresos Totales:\", df['Ingresos_Totales'].median())\n",
    "print(\"Desviación Estándar de Ingresos Totales:\", df['Ingresos_Totales'].std())\n",
    "print(\"Varianza de Ingresos Totales:\", df['Ingresos_Totales'].var())\n",
    "print(\"Rango de Ingresos Totales:\", df['Ingresos_Totales'].max() - df['Ingresos_Totales'].min())\n",
    "\n",
    "# Análisis de cuartiles para 'Ingresos Totales'\n",
    "print(\"\\nCuartiles de Ingresos Totales:\")\n",
    "print(df['Ingresos_Totales'].quantile([0.25, 0.5, 0.75]))\n",
    "\n",
    "# Estadísticas Generales del DataFrame\n",
    "print(\"\\nResumen Estadístico General:\")\n",
    "print(df.describe())"
   ]
  }
 ],
 "metadata": {
  "kernelspec": {
   "display_name": "Python 3",
   "language": "python",
   "name": "python3"
  },
  "language_info": {
   "codemirror_mode": {
    "name": "ipython",
    "version": 3
   },
   "file_extension": ".py",
   "mimetype": "text/x-python",
   "name": "python",
   "nbconvert_exporter": "python",
   "pygments_lexer": "ipython3",
   "version": "3.9.15"
  }
 },
 "nbformat": 4,
 "nbformat_minor": 2
}
