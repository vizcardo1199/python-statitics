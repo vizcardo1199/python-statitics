{
 "cells": [
  {
   "cell_type": "code",
   "execution_count": null,
   "metadata": {},
   "outputs": [],
   "source": [
    "#Cálculo de la Media\n",
    "\n",
    "# Lista de números\n",
    "numeros = [4, 8, 6, 10, 12]"
   ]
  },
  {
   "cell_type": "code",
   "execution_count": null,
   "metadata": {},
   "outputs": [],
   "source": [
    "#Cálculo de la Mediana\n",
    "# Lista de números\n",
    "numeros = [4, 8, 6, 10, 12]"
   ]
  },
  {
   "cell_type": "code",
   "execution_count": null,
   "metadata": {},
   "outputs": [],
   "source": [
    "#Cálculo de la Moda\n",
    "# Lista de números\n",
    "numeros = [7, 9, 7, 10, 7, 8, 9]"
   ]
  },
  {
   "cell_type": "code",
   "execution_count": null,
   "metadata": {},
   "outputs": [],
   "source": [
    "#Cálculo de Media, Mediana y Moda en una Lista\n",
    "# Lista de números\n",
    "numeros = [5, 8, 12, 5, 7, 10, 5, 9, 8, 6]"
   ]
  },
  {
   "cell_type": "code",
   "execution_count": null,
   "metadata": {},
   "outputs": [],
   "source": [
    "#Análisis de Datos Agrupados\n",
    "# Intervalos de edades y sus frecuencias\n",
    "intervalos = [(20, 29), (30, 39), (40, 49), (50, 59), (60, 69)]\n",
    "frecuencias = [4, 6, 5, 3, 2]"
   ]
  },
  {
   "cell_type": "code",
   "execution_count": null,
   "metadata": {},
   "outputs": [],
   "source": [
    "# Análisis de Sesgo y Curtosis con Medidas de Tendencia Central"
   ]
  },
  {
   "cell_type": "code",
   "execution_count": null,
   "metadata": {},
   "outputs": [],
   "source": [
    "# Estimación y Comparación de Promedios de Muestras"
   ]
  }
 ],
 "metadata": {
  "language_info": {
   "name": "python"
  }
 },
 "nbformat": 4,
 "nbformat_minor": 2
}
