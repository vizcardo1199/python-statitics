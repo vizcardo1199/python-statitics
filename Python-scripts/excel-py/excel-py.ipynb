{
 "cells": [
  {
   "cell_type": "code",
   "execution_count": 1,
   "id": "25768e7e",
   "metadata": {},
   "outputs": [
    {
     "name": "stdout",
     "output_type": "stream",
     "text": [
      "archivo generado correctamente\n"
     ]
    }
   ],
   "source": [
    "#Crear un archivo excel con python\n",
    "import pandas as pd\n",
    "\n",
    "#crear un DataFrame(df) o diccionario \n",
    "\n",
    "data = {\n",
    "    \"Nombres\":['Luis','Juan','Ana','Pedro'],\n",
    "    \"Edades\":[29,30,40,60],\n",
    "    'Puntajes' : [90,95,100,80]\n",
    "}\n",
    "df = pd.DataFrame(data)\n",
    "\n",
    "df.to_excel('example_output.xlsx')\n",
    "print('archivo generado correctamente')\n"
   ]
  },
  {
   "cell_type": "code",
   "execution_count": 3,
   "id": "ee7af0b3",
   "metadata": {},
   "outputs": [
    {
     "name": "stdout",
     "output_type": "stream",
     "text": [
      "archivo generado correctamente\n"
     ]
    }
   ],
   "source": [
    "#Crear un archivo excel con python sin index\n",
    "import pandas as pd\n",
    "\n",
    "#crear un DataFrame(df) o diccionario \n",
    "\n",
    "data = {\n",
    "    \"Nombres\":['Luis','Juan','Ana'],\n",
    "    \"Edades\":[29,30,50],\n",
    "    'Puntajes' : [90,95,100]\n",
    "}\n",
    "df = pd.DataFrame(data)\n",
    "\n",
    "df.to_excel('example_output_sinindex.xlsx',index=False)\n",
    "print('archivo generado correctamente')"
   ]
  },
  {
   "cell_type": "code",
   "execution_count": 4,
   "id": "ab84bd85",
   "metadata": {},
   "outputs": [
    {
     "name": "stdout",
     "output_type": "stream",
     "text": [
      "       Fecha    Producto  Cantidad_Vendida  Precio_Unitario\n",
      "0 2024-01-31  Producto A                50               10\n",
      "1 2024-02-29  Producto A                60               10\n",
      "2 2024-03-31  Producto A                45               10\n",
      "3 2024-04-30  Producto A                70               10\n",
      "4 2024-05-31  Producto A                65               10\n",
      "     Ciudad  Mes  Temperatura_Media\n",
      "0  Ciudad X    1                 15\n",
      "1  Ciudad X    2                 16\n",
      "2  Ciudad X    3                 18\n",
      "3  Ciudad X    4                 20\n",
      "4  Ciudad X    5                 22\n",
      "     País   Año  Población\n",
      "0  País A  2015    1000000\n",
      "1  País B  2015    1050000\n",
      "2  País C  2015    1100000\n",
      "3  País A  2016    1150000\n",
      "4  País B  2016    1200000\n"
     ]
    }
   ],
   "source": [
    "# Leer un archivo excel\n",
    "import pandas as pd\n",
    "\n",
    "#aca ponemos el nombre del archivo excel que deseamos acceder\n",
    "archivo_excel='datos_ejemplo.xlsx'\n",
    "sheets = pd.ExcelFile(archivo_excel)\n",
    "\n",
    "#imprimir las filas de las hojas \n",
    "for sheet_name in sheets.sheet_names:\n",
    "    df = pd.read_excel(archivo_excel, sheet_name=sheet_name)\n",
    "    print(df.head()) #por defecto me imprime 5\n",
    "\n"
   ]
  },
  {
   "cell_type": "code",
   "execution_count": 5,
   "id": "b0e4e4bd",
   "metadata": {},
   "outputs": [
    {
     "name": "stdout",
     "output_type": "stream",
     "text": [
      "       Fecha    Producto  Cantidad_Vendida  Precio_Unitario\n",
      "0 2024-01-31  Producto A                50               10\n",
      "1 2024-02-29  Producto A                60               10\n",
      "2 2024-03-31  Producto A                45               10\n",
      "3 2024-04-30  Producto A                70               10\n",
      "4 2024-05-31  Producto A                65               10\n",
      "5 2024-06-30  Producto A                80               10\n",
      "6 2024-07-31  Producto A                90               10\n",
      "7 2024-08-31  Producto A                85               10\n",
      "8 2024-09-30  Producto A                75               10\n",
      "9 2024-10-31  Producto A                95               10\n",
      "     Ciudad  Mes  Temperatura_Media\n",
      "0  Ciudad X    1                 15\n",
      "1  Ciudad X    2                 16\n",
      "2  Ciudad X    3                 18\n",
      "3  Ciudad X    4                 20\n",
      "4  Ciudad X    5                 22\n",
      "5  Ciudad X    6                 25\n",
      "6  Ciudad X    7                 30\n",
      "7  Ciudad X    8                 29\n",
      "8  Ciudad X    9                 24\n",
      "9  Ciudad X   10                 20\n",
      "     País   Año  Población\n",
      "0  País A  2015    1000000\n",
      "1  País B  2015    1050000\n",
      "2  País C  2015    1100000\n",
      "3  País A  2016    1150000\n",
      "4  País B  2016    1200000\n",
      "5  País C  2016    1250000\n",
      "6  País A  2017    1300000\n",
      "7  País B  2017    1350000\n",
      "8  País C  2017    1400000\n",
      "9  País A  2018    1450000\n"
     ]
    }
   ],
   "source": [
    "# Leer un archivo excel\n",
    "import pandas as pd\n",
    "\n",
    "#aca ponemos el nombre del archivo excel que deseamos acceder\n",
    "archivo_excel='datos_ejemplo.xlsx'\n",
    "sheets = pd.ExcelFile(archivo_excel)\n",
    "num_filas=10\n",
    "\n",
    "#imprimir las filas de las hojas \n",
    "for sheet_name in sheets.sheet_names:\n",
    "    df = pd.read_excel(archivo_excel, sheet_name=sheet_name)\n",
    "    print(df.head(num_filas)) #dentro de df.head() le pasamos el numero de filas"
   ]
  },
  {
   "cell_type": "code",
   "execution_count": 6,
   "id": "401875a9",
   "metadata": {},
   "outputs": [
    {
     "name": "stdout",
     "output_type": "stream",
     "text": [
      "       Fecha    Producto\n",
      "0 2024-01-31  Producto A\n",
      "1 2024-02-29  Producto A\n",
      "2 2024-03-31  Producto A\n",
      "3 2024-04-30  Producto A\n",
      "4 2024-05-31  Producto A\n",
      "5 2024-06-30  Producto A\n",
      "6 2024-07-31  Producto A\n",
      "7 2024-08-31  Producto A\n",
      "8 2024-09-30  Producto A\n",
      "9 2024-10-31  Producto A\n",
      "     Ciudad  Mes\n",
      "0  Ciudad X    1\n",
      "1  Ciudad X    2\n",
      "2  Ciudad X    3\n",
      "3  Ciudad X    4\n",
      "4  Ciudad X    5\n",
      "5  Ciudad X    6\n",
      "6  Ciudad X    7\n",
      "7  Ciudad X    8\n",
      "8  Ciudad X    9\n",
      "9  Ciudad X   10\n",
      "     País   Año\n",
      "0  País A  2015\n",
      "1  País B  2015\n",
      "2  País C  2015\n",
      "3  País A  2016\n",
      "4  País B  2016\n",
      "5  País C  2016\n",
      "6  País A  2017\n",
      "7  País B  2017\n",
      "8  País C  2017\n",
      "9  País A  2018\n"
     ]
    }
   ],
   "source": [
    "#traer las columnas requeridas\n",
    "# Leer un archivo excel\n",
    "import pandas as pd\n",
    "\n",
    "#aca ponemos el nombre del archivo excel que deseamos acceder\n",
    "archivo_excel='datos_ejemplo.xlsx'\n",
    "sheets = pd.ExcelFile(archivo_excel)\n",
    "num_filas=10\n",
    "rango_columnas ='A:B'\n",
    "\n",
    "#imprimir las filas de las hojas \n",
    "for sheet_name in sheets.sheet_names:\n",
    "    df = pd.read_excel(archivo_excel, sheet_name=sheet_name , usecols=rango_columnas)\n",
    "    print(df.head(num_filas)) #dentro de df.head() le pasamos el numero de filas"
   ]
  },
  {
   "cell_type": "code",
   "execution_count": 7,
   "id": "267e6433",
   "metadata": {},
   "outputs": [
    {
     "name": "stdout",
     "output_type": "stream",
     "text": [
      "El calculo de areas fue exitoso\n"
     ]
    }
   ],
   "source": [
    "# calcular el area de un circulo\n",
    "\n",
    "import pandas as pd\n",
    "import math\n",
    "\n",
    "df = pd.read_excel('radios.xlsx')#leemos el excel\n",
    "# pi = math.pi\n",
    "areas = []\n",
    "\n",
    "for radio in df['Radio']: #este bucle va a recorrer la columna radio\n",
    "    area = math.pi * (radio**2)\n",
    "    areas.append(area)\n",
    "    \n",
    "#como añadimos una nueva columna con las areas\n",
    "df['Areas'] = areas\n",
    "\n",
    "#guardamos el archivo con las areas calculadas\n",
    "df.to_excel('area_de_circuilos.xlsx', index=False)\n",
    "print('El calculo de areas fue exitoso')"
   ]
  },
  {
   "cell_type": "code",
   "execution_count": null,
   "id": "8e6aac59",
   "metadata": {},
   "outputs": [],
   "source": [
    "# Calculen el perimetro del circulo leyendo el mismo excel '2*pi*radio'"
   ]
  },
  {
   "cell_type": "code",
   "execution_count": 8,
   "id": "a9e31f55",
   "metadata": {},
   "outputs": [
    {
     "name": "stdout",
     "output_type": "stream",
     "text": [
      "La conversion de temperaturas fue exitoso\n"
     ]
    }
   ],
   "source": [
    "# Convertir temperaturas de celsius a fahrenheit\n",
    "\n",
    "import pandas as pd\n",
    "\n",
    "df = pd.read_excel('temperaturas.xlsx')\n",
    "\n",
    "#creamos una lista donde guardaremos las temperaturas en Fahrenheit\n",
    "fahrenheit = []\n",
    "\n",
    "for celsius in df['Celsius']:\n",
    "    f = celsius*1.8 + 32\n",
    "    fahrenheit.append(f)\n",
    "\n",
    "#añadimos una nueva columna llamada Fahrenheit\n",
    "df['Fahrenheit']=fahrenheit\n",
    "\n",
    "#guardamos el archivo con las temperaturas en F\n",
    "df.to_excel('temperatura_fahrenheit.xlsx', index=False)\n",
    "print('La conversion de temperaturas fue exitoso')"
   ]
  },
  {
   "cell_type": "code",
   "execution_count": null,
   "id": "99baa8a7",
   "metadata": {},
   "outputs": [],
   "source": [
    "# convierten temperatura_fahrenheit.xlsx añadan una columna nueva en Kelvin = Celsius + 273"
   ]
  },
  {
   "cell_type": "code",
   "execution_count": 9,
   "id": "5da0ec99",
   "metadata": {},
   "outputs": [
    {
     "name": "stdout",
     "output_type": "stream",
     "text": [
      "Clasificacion succesfully\n"
     ]
    }
   ],
   "source": [
    "#Clasificar edades : menor de edad y adulto\n",
    "\n",
    "import pandas as pd\n",
    "\n",
    "df = pd.read_excel('edades.xlsx')\n",
    "\n",
    "#Crear una lista para guardar la clasificaciones de edades\n",
    "clasificacion = []\n",
    "\n",
    "for age in df['Edad']:\n",
    "    if age <18:\n",
    "        clasificacion.append('Menor de edad')\n",
    "    else :\n",
    "        clasificacion.append('Adulto')\n",
    "        \n",
    "df['Clasificacion'] = clasificacion\n",
    "\n",
    "df.to_excel('clasificación_edades.xlsx',index=False)\n",
    "print('Clasificacion succesfully')"
   ]
  },
  {
   "cell_type": "code",
   "execution_count": null,
   "id": "a65b341d",
   "metadata": {},
   "outputs": [],
   "source": [
    "# leemos el excel precios.xlsx y generamos una nueva columna con su precio +igv (18%)\n"
   ]
  },
  {
   "cell_type": "code",
   "execution_count": 10,
   "id": "9221e62a",
   "metadata": {},
   "outputs": [
    {
     "name": "stdout",
     "output_type": "stream",
     "text": [
      "31.25\n"
     ]
    }
   ],
   "source": [
    "# calcular la media datos.xlsx\n",
    "import pandas as pd\n",
    "\n",
    "#leemos el excel \n",
    "df = pd.read_excel('datos.xlsx')\n",
    "\n",
    "#calculamos la media ( media = suma_datos / #datos)\n",
    "suma = sum(df['Valores'])\n",
    "n = len(df['Valores'])\n",
    "\n",
    "media = suma / n\n",
    "\n",
    "print(media)\n",
    "\n",
    "\n",
    "\n"
   ]
  },
  {
   "cell_type": "code",
   "execution_count": null,
   "id": "9a98c480",
   "metadata": {},
   "outputs": [],
   "source": [
    "# calcular la media de edades.xlsx , temperaturas.xlsx"
   ]
  },
  {
   "cell_type": "code",
   "execution_count": 12,
   "id": "1e2a0fde",
   "metadata": {},
   "outputs": [
    {
     "name": "stdout",
     "output_type": "stream",
     "text": [
      "40\n"
     ]
    }
   ],
   "source": [
    "#Calcular Moda de una columna \n",
    "import pandas as pd\n",
    "from collections import Counter\n",
    "\n",
    "#leemos el excel \n",
    "df = pd.read_excel('datos.xlsx')\n",
    "\n",
    "# Contar las frecuencias\n",
    "contador = Counter(df['Valores'])\n",
    "\n",
    "#Buscar el valor mas frecuente\n",
    "moda = max(contador , key=contador.get)\n",
    "\n",
    "print(moda)\n"
   ]
  },
  {
   "cell_type": "code",
   "execution_count": 13,
   "id": "13d3fd8e",
   "metadata": {},
   "outputs": [
    {
     "name": "stdout",
     "output_type": "stream",
     "text": [
      "40.0\n"
     ]
    }
   ],
   "source": [
    "# Calcular la mediana\n",
    "import pandas as pd\n",
    "\n",
    "#leemos el excel \n",
    "df = pd.read_excel('datos.xlsx')\n",
    "\n",
    "#ordenar los valores\n",
    "valores_ordenados = sorted(df['Valores'])\n",
    "\n",
    "#cuantos datos hay\n",
    "n = len(valores_ordenados)\n",
    "if n%2 ==0: #numero par de elementos\n",
    "    mediana = (valores_ordenados[n//2]+valores_ordenados[(n//2)+1])/2\n",
    "    \n",
    "else :#numero impar de elmentos\n",
    "    mediana=valores_ordenados[n//2]\n",
    "    \n",
    "print(mediana)"
   ]
  },
  {
   "cell_type": "code",
   "execution_count": null,
   "id": "f09108f6",
   "metadata": {},
   "outputs": [],
   "source": [
    "# calculen desviacion estandar , coeficiente de variacion"
   ]
  },
  {
   "cell_type": "code",
   "execution_count": 17,
   "id": "0313ed34",
   "metadata": {},
   "outputs": [],
   "source": [
    "from openpyxl import Workbook\n",
    "\n",
    "#creamos un archivo excel\n",
    "wb = Workbook()\n",
    "ws = wb.active\n",
    "\n",
    "#escribimos datos\n",
    "#ws['celda'] = 'string'\n",
    "#ws['celda'] = 32\n",
    "ws['A1']='Numero 1'\n",
    "ws['B1']='Numero 2'\n",
    "ws['C1']='Suma'\n",
    "\n",
    "ws['A2']=10\n",
    "ws['B2']=20\n",
    "\n",
    "#agregar formula de suma\n",
    "ws['C2']='=A2+B2'\n",
    "\n",
    "#GUARDAMOS EL ARCHIVO\n",
    "wb.save('suma_wb.xlsx')"
   ]
  },
  {
   "cell_type": "code",
   "execution_count": 22,
   "id": "d8b40cfc",
   "metadata": {},
   "outputs": [
    {
     "name": "stdout",
     "output_type": "stream",
     "text": [
      "    n1  n2  n3  n4  max_fila  min_fila  media_fila  mediana_fila\n",
      "0   85  93  83  95        95        83       89.00          89.0\n",
      "1   83  75  81  90        90        75       82.25          82.0\n",
      "2   89  88  91  88        91        88       89.00          88.5\n",
      "3   62  71  69  65        71        62       66.75          67.0\n",
      "4   75  83  88  87        88        75       83.25          85.0\n",
      "5   90  86  82  85        90        82       85.75          85.5\n",
      "6   91  89  79  92        92        79       87.75          90.0\n",
      "7   77  72  68  81        81        68       74.50          74.5\n",
      "8   82  87  74  84        87        74       81.75          83.0\n",
      "9   71  74  71  75        75        71       72.75          72.5\n",
      "10  92  95  87  95        95        87       92.25          93.5\n",
      "11  61  60  65  67        67        60       63.25          63.0\n",
      "12  85  85  85  87        87        85       85.50          85.0\n",
      "13  81  76  90  83        90        76       82.50          82.0\n",
      "14  73  74  69  74        74        69       72.50          73.5\n",
      "15  70  70  75  83        83        70       74.50          72.5\n",
      "16  86  95  93  87        95        86       90.25          90.0\n",
      "17  88  81  79  90        90        79       84.50          84.5\n",
      "18  71  78  76  78        78        71       75.75          77.0\n",
      "19  90  94  92  91        94        90       91.75          91.5\n",
      "{'max_columna': array([92, 95, 93, 95]), 'min_columna': array([61, 60, 65, 65]), 'media_columna': array([80.1 , 81.3 , 79.85, 83.85]), 'mediana_columna': array([82.5, 82. , 80. , 86. ])}\n"
     ]
    }
   ],
   "source": [
    "import pandas as pd\n",
    "import numpy as np\n",
    "\n",
    "df = pd.read_excel('estadistica.xlsx')\n",
    "\n",
    "#especificar las columnas que deseamos analizar\n",
    "columnas_notas =['n1',\"n2\",\"n3\",\"n4\"][]\n",
    "\n",
    "#convertimos nuestro df a solo usar las notas\n",
    "data_array = df[columnas_notas].to_numpy()\n",
    "\n",
    "#calculos por fila\n",
    "df['max_fila'] = np.max(data_array,axis=1)\n",
    "df['min_fila'] = np.min(data_array,axis=1)\n",
    "df['media_fila'] = np.mean(data_array,axis=1)\n",
    "df['mediana_fila'] = np.median(data_array,axis=1)\n",
    "\n",
    "#calculos por columna\n",
    "estadisticas_columnas = {\n",
    "    'max_columna':np.max(data_array,axis=0),\n",
    "    'min_columna':np.min(data_array,axis=0),\n",
    "    'media_columna':np.mean(data_array,axis=0),\n",
    "    'mediana_columna':np.median(data_array,axis=0)\n",
    "}\n",
    "\n",
    "#imprimimos los resultados por fila\n",
    "print(df)\n",
    "print(estadisticas_columnas)"
   ]
  },
  {
   "cell_type": "code",
   "execution_count": null,
   "id": "525ef81c",
   "metadata": {},
   "outputs": [],
   "source": [
    "#resuelven estadistica_6_notas.xlsx"
   ]
  }
 ],
 "metadata": {
  "kernelspec": {
   "display_name": "Python 3 (ipykernel)",
   "language": "python",
   "name": "python3"
  },
  "language_info": {
   "codemirror_mode": {
    "name": "ipython",
    "version": 3
   },
   "file_extension": ".py",
   "mimetype": "text/x-python",
   "name": "python",
   "nbconvert_exporter": "python",
   "pygments_lexer": "ipython3",
   "version": "3.11.7"
  }
 },
 "nbformat": 4,
 "nbformat_minor": 5
}
