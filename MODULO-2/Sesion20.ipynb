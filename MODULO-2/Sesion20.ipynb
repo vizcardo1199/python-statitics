{
 "cells": [
  {
   "cell_type": "code",
   "execution_count": 1,
   "id": "3099832d",
   "metadata": {},
   "outputs": [],
   "source": [
    "# como leo de un excele"
   ]
  },
  {
   "cell_type": "code",
   "execution_count": null,
   "id": "c3360dd5",
   "metadata": {},
   "outputs": [],
   "source": [
    "import pandas as pd\n",
    "from sklearn.neighbors import KNeighborsClassifier\n",
    "\n",
    "# Leer datos desde el archivo Excel\n",
    "df_knn_1 = pd.read_excel(\"KNN_1.xlsx\")\n",
    "\n",
    "# Preparación de datos\n",
    "X = df_knn_1[[\"Longitud del Pétalo (cm)\", \"Ancho del Pétalo (cm)\"]]\n",
    "y = df_knn_1[\"Tipo de Flor\"]"
   ]
  }
 ],
 "metadata": {
  "kernelspec": {
   "display_name": "Python 3 (ipykernel)",
   "language": "python",
   "name": "python3"
  },
  "language_info": {
   "codemirror_mode": {
    "name": "ipython",
    "version": 3
   },
   "file_extension": ".py",
   "mimetype": "text/x-python",
   "name": "python",
   "nbconvert_exporter": "python",
   "pygments_lexer": "ipython3",
   "version": "3.11.7"
  }
 },
 "nbformat": 4,
 "nbformat_minor": 5
}
