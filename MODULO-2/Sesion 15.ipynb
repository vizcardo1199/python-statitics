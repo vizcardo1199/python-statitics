{
 "cells": [
  {
   "cell_type": "markdown",
   "id": "0d303587",
   "metadata": {},
   "source": [
    "# MACHINE LEARNING (aprendizaje de maquina )"
   ]
  },
  {
   "cell_type": "markdown",
   "id": "b48d1ed2",
   "metadata": {},
   "source": [
    "![Texto alternativo](https://images.javatpoint.com/tutorial/machine-learning/images/bias-and-variance-in-machine-learning2.png)"
   ]
  },
  {
   "cell_type": "markdown",
   "id": "da0f71dc",
   "metadata": {},
   "source": [
    "# BIAS\n",
    "![Texto alternativo](https://images.javatpoint.com/tutorial/machine-learning/images/bias-and-variance-in-machine-learning3.png)"
   ]
  },
  {
   "cell_type": "code",
   "execution_count": null,
   "id": "78283f77",
   "metadata": {},
   "outputs": [],
   "source": [
    "SUBAJUSTE\n",
    "AJUSTE OPTIMO\n",
    "SOBRE AJUSTE\n"
   ]
  },
  {
   "cell_type": "markdown",
   "id": "00b46e51",
   "metadata": {},
   "source": [
    "![Texto alternativo](https://images.javatpoint.com/tutorial/machine-learning/images/bias-and-variance-in-machine-learning6.png)"
   ]
  },
  {
   "cell_type": "markdown",
   "id": "82d5db3f",
   "metadata": {},
   "source": [
    "# SOBREAJUSTE Y SUBAJUSTE\n",
    "\n",
    "![Texto alternativo](https://www.aprendemachinelearning.com/wp-content/uploads/2017/12/generalizacion-machine-learning.png)"
   ]
  },
  {
   "cell_type": "code",
   "execution_count": 27,
   "id": "42c36725",
   "metadata": {
    "scrolled": true
   },
   "outputs": [
    {
     "name": "stdout",
     "output_type": "stream",
     "text": [
      "   Producto  Precio  Cantidad  Valor Total\n",
      "0  Manzanas     1.2        10         12.0\n",
      "1  Naranjas     0.8        20         16.0\n",
      "2  Platanos     0.5        15          7.5\n"
     ]
    }
   ],
   "source": [
    "import pandas as pd\n",
    "\n",
    "#Ejemplo 1 : Crear una serie basica \n",
    "serie_basica = pd.Series([10,20,30,40,50])\n",
    "#print(serie_basica)\n",
    "\n",
    "#Ejemplo 2 : Crear un DataFrame desde un diccionario\n",
    "data = {\n",
    "    'Producto' : ['Manzanas','Naranjas','Platanos'],\n",
    "    'Precio' : [1.2 , 0.8 , 0.5],\n",
    "    'Cantidad' : [10 , 20 , 15]\n",
    "}\n",
    "\n",
    "df_simple = pd.DataFrame(data)\n",
    "#print(df_simple)\n",
    "\n",
    "#Ejemplo 3 : Seleccionar columnas y filas\n",
    "\n",
    "#columna\n",
    "#print(df_simple['Precio'])\n",
    "#fila\n",
    "#print(df_simple.iloc[0])\n",
    "\n",
    "# Ejemplo 4 : Filtrar datos en un DataFrame\n",
    "filtro = df_simple[ df_simple['Cantidad'] > 13]\n",
    "#print(filtro)\n",
    "\n",
    "# Ejemplo 5 : Agregar una nueva columna calculada\n",
    "df_simple['Valor Total'] = df_simple['Precio'] * df_simple['Cantidad']\n",
    "\n",
    "print(df_simple)\n",
    "\n",
    "\n"
   ]
  },
  {
   "cell_type": "code",
   "execution_count": 30,
   "id": "8375fe0f",
   "metadata": {},
   "outputs": [
    {
     "name": "stdout",
     "output_type": "stream",
     "text": [
      "   Producto  Precio\n",
      "0  Manzanas     1.2\n",
      "1  Naranjas     0.8\n",
      "2  Platanos     0.5\n"
     ]
    }
   ],
   "source": [
    "import pandas as pd\n",
    "data = {\n",
    "    'Producto' : ['Manzanas','Naranjas','Platanos'],\n",
    "    'Precio' : [1.2 , 0.8 , 0.5],\n",
    "    'Cantidad' : [10 , 20 , 15]\n",
    "}\n",
    "\n",
    "df_simple = pd.DataFrame(data)\n",
    "\n",
    "#Ejemplo 6 : Eliminar Columna\n",
    "df_nuevo = df_simple.drop(columns=['Cantidad'])\n",
    "print(df_nuevo)\n",
    "\n",
    "#Crear un dataframe polo , pantalon , casaca  , medias "
   ]
  },
  {
   "cell_type": "code",
   "execution_count": 6,
   "id": "f2624af2",
   "metadata": {},
   "outputs": [],
   "source": [
    "regresion lineal\n",
    "import numpy as np\n",
    "import matplotlib.pyplot as plt\n",
    "from sklearn.linear_model import LinearRegression\n",
    "from sklearn.metrics import mean_squared_error, r2_score"
   ]
  },
  {
   "cell_type": "code",
   "execution_count": null,
   "id": "b0abb627",
   "metadata": {},
   "outputs": [],
   "source": [
    "# Pesos (en kg) y precios (en USD)\n",
    "peso = np.array([1, 2, 3, 4, 5, 6, 7, 8, 9, 10]).reshape(-1, 1)  # Variable independiente (X)\n",
    "precio = np.array([1.2, 2.3, 3.5, 4.2, 5.1, 5.9, 7.0, 8.2, 8.9, 10.5]).reshape(-1, 1)  # Variable dependiente (y)"
   ]
  },
  {
   "cell_type": "code",
   "execution_count": null,
   "id": "34cd04d4",
   "metadata": {},
   "outputs": [],
   "source": [
    "# Datos fijos: X (variable independiente) y y (variable dependiente)\n",
    "X = np.array([[i] for i in range(1, 41)])  # 40 datos: del 1 al 40\n",
    "y = np.array([[2.5 * i + np.random.uniform(-5, 5)] for i in range(1, 41)])  # Relación lineal con algo de ruido"
   ]
  },
  {
   "cell_type": "code",
   "execution_count": null,
   "id": "9895dbfc",
   "metadata": {},
   "outputs": [],
   "source": [
    "# Pesos (en kg) y precios (en USD) con una relación no lineal\n",
    "peso = np.array([1, 2, 3, 4, 5, 6, 7, 8, 9, 10]).reshape(-1, 1)  # Variable independiente\n",
    "precio = np.array([1.5, 2.8, 6.1, 8.0, 15.5, 18.2, 30.5, 35.1, 48.0, 55.2]).reshape(-1, 1)  # "
   ]
  },
  {
   "cell_type": "code",
   "execution_count": null,
   "id": "07a82bba",
   "metadata": {},
   "outputs": [],
   "source": [
    "Tamaño (m²)\tHabitaciones\tPrecio (USD)\n",
    "50\t           2\t         200,000\n",
    "75\t           3\t         300,000\n",
    "100\t           4\t         400,000\n",
    "150\t           5\t         600,000\n",
    "200\t           6\t         800,000"
   ]
  },
  {
   "cell_type": "code",
   "execution_count": null,
   "id": "205aa215",
   "metadata": {},
   "outputs": [],
   "source": [
    "Edad\tIMC\tNúmero de hijos\tGastos médicos (USD)\n",
    "25\t22.5\t0\t1200\n",
    "30\t28.1\t1\t2300\n",
    "35\t26.4\t2\t3500\n",
    "40\t30.0\t3\t4500\n",
    "50\t32.2\t4\t6000"
   ]
  },
  {
   "cell_type": "code",
   "execution_count": null,
   "id": "32778dfa",
   "metadata": {},
   "outputs": [],
   "source": [
    "Horas de estudio\tParticipación en clase (%)\tHoras de sueño\tRendimiento académico (Puntaje sobre 100)\n",
    "2\t50\t6\t60\n",
    "4\t70\t7\t75\n",
    "6\t80\t8\t85\n",
    "8\t90\t7\t92\n",
    "10\t95\t8\t98"
   ]
  },
  {
   "cell_type": "code",
   "execution_count": null,
   "id": "3dc69a83",
   "metadata": {},
   "outputs": [],
   "source": [
    "Velocidad (km/h)\tPeso (toneladas)\tCapacidad del motor (litros)\tConsumo (litros/100 km)\n",
    "60\t1.5\t1.6\t6.5\n",
    "80\t1.8\t2.0\t8.0\n",
    "100\t2.0\t2.2\t9.5\n",
    "120\t2.5\t2.5\t11.0\n",
    "140\t3.0\t3.0\t14.0"
   ]
  },
  {
   "cell_type": "code",
   "execution_count": null,
   "id": "1e78781f",
   "metadata": {},
   "outputs": [],
   "source": [
    "Memoria (GB)\tCámara (MP)\tBatería (mAh)\tPrecio (USD)\n",
    "64\t12\t3000\t500\n",
    "128\t48\t4000\t800\n",
    "256\t64\t4500\t1000\n",
    "512\t108\t5000\t1400\n",
    "1024\t200\t6000\t2000"
   ]
  },
  {
   "cell_type": "code",
   "execution_count": null,
   "id": "c58b849e",
   "metadata": {},
   "outputs": [],
   "source": []
  }
 ],
 "metadata": {
  "celltoolbar": "Attachments",
  "kernelspec": {
   "display_name": "Python 3 (ipykernel)",
   "language": "python",
   "name": "python3"
  },
  "language_info": {
   "codemirror_mode": {
    "name": "ipython",
    "version": 3
   },
   "file_extension": ".py",
   "mimetype": "text/x-python",
   "name": "python",
   "nbconvert_exporter": "python",
   "pygments_lexer": "ipython3",
   "version": "3.11.7"
  }
 },
 "nbformat": 4,
 "nbformat_minor": 5
}
