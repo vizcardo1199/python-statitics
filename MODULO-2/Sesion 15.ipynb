{
 "cells": [
  {
   "cell_type": "markdown",
   "id": "28855376",
   "metadata": {},
   "source": [
    "# MACHINE LEARNING (aprendizaje de maquina )"
   ]
  },
  {
   "cell_type": "markdown",
   "id": "017edbbb",
   "metadata": {},
   "source": [
    "![Texto alternativo](https://images.javatpoint.com/tutorial/machine-learning/images/bias-and-variance-in-machine-learning2.png)"
   ]
  },
  {
   "cell_type": "markdown",
   "id": "01ad14c3",
   "metadata": {},
   "source": [
    "# BIAS\n",
    "![Texto alternativo](https://images.javatpoint.com/tutorial/machine-learning/images/bias-and-variance-in-machine-learning3.png)"
   ]
  },
  {
   "cell_type": "code",
   "execution_count": null,
   "id": "1b5c1383",
   "metadata": {},
   "outputs": [],
   "source": [
    "SUBAJUSTE\n",
    "AJUSTE OPTIMO\n",
    "SOBRE AJUSTE\n"
   ]
  },
  {
   "cell_type": "markdown",
   "id": "2d30164e",
   "metadata": {},
   "source": [
    "![Texto alternativo](https://images.javatpoint.com/tutorial/machine-learning/images/bias-and-variance-in-machine-learning6.png)"
   ]
  },
  {
   "cell_type": "markdown",
   "id": "cf1b7b62",
   "metadata": {},
   "source": [
    "# SOBREAJUSTE Y SUBAJUSTE\n",
    "\n",
    "![Texto alternativo](https://www.aprendemachinelearning.com/wp-content/uploads/2017/12/generalizacion-machine-learning.png)"
   ]
  },
  {
   "cell_type": "code",
   "execution_count": null,
   "id": "3ec429a7",
   "metadata": {},
   "outputs": [],
   "source": [
    "import pandas as pd\n",
    "\n",
    "\n",
    "\n"
   ]
  },
  {
   "cell_type": "code",
   "execution_count": 6,
   "id": "ed11cf19",
   "metadata": {},
   "outputs": [],
   "source": [
    "regresion lineal\n",
    "import numpy as np\n",
    "import matplotlib.pyplot as plt\n",
    "from sklearn.linear_model import LinearRegression\n",
    "from sklearn.metrics import mean_squared_error, r2_score"
   ]
  },
  {
   "cell_type": "code",
   "execution_count": null,
   "id": "c60a3e15",
   "metadata": {},
   "outputs": [],
   "source": [
    "# Pesos (en kg) y precios (en USD)\n",
    "peso = np.array([1, 2, 3, 4, 5, 6, 7, 8, 9, 10]).reshape(-1, 1)  # Variable independiente (X)\n",
    "precio = np.array([1.2, 2.3, 3.5, 4.2, 5.1, 5.9, 7.0, 8.2, 8.9, 10.5]).reshape(-1, 1)  # Variable dependiente (y)"
   ]
  },
  {
   "cell_type": "code",
   "execution_count": null,
   "id": "3a9b92a3",
   "metadata": {},
   "outputs": [],
   "source": [
    "# Datos fijos: X (variable independiente) y y (variable dependiente)\n",
    "X = np.array([[i] for i in range(1, 41)])  # 40 datos: del 1 al 40\n",
    "y = np.array([[2.5 * i + np.random.uniform(-5, 5)] for i in range(1, 41)])  # Relación lineal con algo de ruido"
   ]
  },
  {
   "cell_type": "code",
   "execution_count": null,
   "id": "f65ece48",
   "metadata": {},
   "outputs": [],
   "source": [
    "# Pesos (en kg) y precios (en USD) con una relación no lineal\n",
    "peso = np.array([1, 2, 3, 4, 5, 6, 7, 8, 9, 10]).reshape(-1, 1)  # Variable independiente\n",
    "precio = np.array([1.5, 2.8, 6.1, 8.0, 15.5, 18.2, 30.5, 35.1, 48.0, 55.2]).reshape(-1, 1)  # "
   ]
  },
  {
   "cell_type": "code",
   "execution_count": null,
   "id": "c02ffa51",
   "metadata": {},
   "outputs": [],
   "source": [
    "Tamaño (m²)\tHabitaciones\tPrecio (USD)\n",
    "50\t           2\t         200,000\n",
    "75\t           3\t         300,000\n",
    "100\t           4\t         400,000\n",
    "150\t           5\t         600,000\n",
    "200\t           6\t         800,000"
   ]
  },
  {
   "cell_type": "code",
   "execution_count": null,
   "id": "40cfd798",
   "metadata": {},
   "outputs": [],
   "source": [
    "Edad\tIMC\tNúmero de hijos\tGastos médicos (USD)\n",
    "25\t22.5\t0\t1200\n",
    "30\t28.1\t1\t2300\n",
    "35\t26.4\t2\t3500\n",
    "40\t30.0\t3\t4500\n",
    "50\t32.2\t4\t6000"
   ]
  },
  {
   "cell_type": "code",
   "execution_count": null,
   "id": "ab5fc5d0",
   "metadata": {},
   "outputs": [],
   "source": [
    "Horas de estudio\tParticipación en clase (%)\tHoras de sueño\tRendimiento académico (Puntaje sobre 100)\n",
    "2\t50\t6\t60\n",
    "4\t70\t7\t75\n",
    "6\t80\t8\t85\n",
    "8\t90\t7\t92\n",
    "10\t95\t8\t98"
   ]
  },
  {
   "cell_type": "code",
   "execution_count": null,
   "id": "7cded49b",
   "metadata": {},
   "outputs": [],
   "source": [
    "Velocidad (km/h)\tPeso (toneladas)\tCapacidad del motor (litros)\tConsumo (litros/100 km)\n",
    "60\t1.5\t1.6\t6.5\n",
    "80\t1.8\t2.0\t8.0\n",
    "100\t2.0\t2.2\t9.5\n",
    "120\t2.5\t2.5\t11.0\n",
    "140\t3.0\t3.0\t14.0"
   ]
  },
  {
   "cell_type": "code",
   "execution_count": null,
   "id": "7fb5a12e",
   "metadata": {},
   "outputs": [],
   "source": [
    "Memoria (GB)\tCámara (MP)\tBatería (mAh)\tPrecio (USD)\n",
    "64\t12\t3000\t500\n",
    "128\t48\t4000\t800\n",
    "256\t64\t4500\t1000\n",
    "512\t108\t5000\t1400\n",
    "1024\t200\t6000\t2000"
   ]
  },
  {
   "cell_type": "code",
   "execution_count": null,
   "id": "80bc207b",
   "metadata": {},
   "outputs": [],
   "source": []
  }
 ],
 "metadata": {
  "celltoolbar": "Attachments",
  "kernelspec": {
   "display_name": "Python 3 (ipykernel)",
   "language": "python",
   "name": "python3"
  },
  "language_info": {
   "codemirror_mode": {
    "name": "ipython",
    "version": 3
   },
   "file_extension": ".py",
   "mimetype": "text/x-python",
   "name": "python",
   "nbconvert_exporter": "python",
   "pygments_lexer": "ipython3",
   "version": "3.11.7"
  }
 },
 "nbformat": 4,
 "nbformat_minor": 5
}
