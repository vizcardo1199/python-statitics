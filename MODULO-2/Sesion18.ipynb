{
 "cells": [
  {
   "cell_type": "code",
   "execution_count": null,
   "id": "b456c3fb",
   "metadata": {},
   "outputs": [],
   "source": []
  },
  {
   "cell_type": "code",
   "execution_count": null,
   "id": "95b43d3f",
   "metadata": {},
   "outputs": [],
   "source": [
    "import pandas as pd\n",
    "import numpy as np\n",
    "from sklearn.decomposition import PCA\n",
    "from sklearn.preprocessing import StandardScaler\n",
    "import matplotlib.pyplot as plt\n",
    "\n",
    "# Datos: Calificaciones de estudiantes\n",
    "data = {\n",
    "    \"Matemáticas\": [85, 80, 78, 92, 88],\n",
    "    \"Física\": [82, 79, 84, 94, 86],\n",
    "    \"Química\": [89, 75, 88, 91, 90],\n",
    "    \"Historia\": [75, 80, 78, 88, 85],\n",
    "    \"Literatura\": [90, 87, 85, 93, 91]\n",
    "}\n",
    "\n",
    "df = pd.DataFrame(data)"
   ]
  },
  {
   "cell_type": "code",
   "execution_count": null,
   "id": "16b9cc92",
   "metadata": {},
   "outputs": [],
   "source": [
    "import numpy as np\n",
    "import pandas as pd\n",
    "from sklearn.decomposition import PCA\n",
    "from sklearn.preprocessing import StandardScaler\n",
    "import matplotlib.pyplot as plt\n",
    "\n",
    "# Datos : Características de flores\n",
    "data = {\n",
    "    \"Largo_sépalo\": [5.1, 4.9, 4.7, 4.6, 5.0, 5.4, 5.5, 4.8, 5.2, 5.3],\n",
    "    \"Ancho_sépalo\": [3.5, 3.0, 3.2, 3.1, 3.6, 3.9, 3.8, 3.0, 3.4, 3.7],\n",
    "    \"Largo_pétalo\": [1.4, 1.4, 1.3, 1.5, 1.4, 1.7, 1.5, 1.3, 1.5, 1.6],\n",
    "    \"Ancho_pétalo\": [0.2, 0.2, 0.2, 0.2, 0.3, 0.4, 0.4, 0.2, 0.2, 0.3],\n",
    "    \"Peso\": [1.5, 1.4, 1.3, 1.5, 1.4, 1.7, 1.6, 1.3, 1.5, 1.6]\n",
    "}\n",
    "\n",
    "# Crear el DataFrame\n",
    "df = pd.DataFrame(data)\n"
   ]
  },
  {
   "cell_type": "code",
   "execution_count": 19,
   "id": "5fe7df59",
   "metadata": {},
   "outputs": [],
   "source": [
    "import pandas as pd\n",
    "\n",
    "# Crear datos fijos\n",
    "data = {\n",
    "    \"Edad\": [25, 30, 35, 40, 45, 50, 55, 60, 25, 30, 35, 40, 45, 50, 55, 60, 25, 30, 35, 40],\n",
    "    \"IngresoMensual\": [3000, 4000, 5000, 6000, 7000, 8000, 9000, 10000, 3000, 4000, 5000, 6000, 7000, 8000, 9000, 10000, 3000, 4000, 5000, 6000],\n",
    "    \"AntiguedadBanco\": [1, 2, 3, 4, 5, 6, 7, 8, 1, 2, 3, 4, 5, 6, 7, 8, 1, 2, 3, 4],\n",
    "    \"SaldoCuenta\": [5000, 10000, 15000, 20000, 25000, 30000, 35000, 40000, 5000, 10000, 15000, 20000, 25000, 30000, 35000, 40000, 5000, 10000, 15000, 20000],\n",
    "    \"DeudasPendientes\": [0, 1000, 2000, 3000, 4000, 5000, 6000, 7000, 0, 1000, 2000, 3000, 4000, 5000, 6000, 7000, 0, 1000, 2000, 3000],\n",
    "    \"NumProductos\": [1, 2, 1, 2, 3, 3, 4, 4, 1, 2, 1, 2, 3, 3, 4, 4, 1, 2, 1, 2],\n",
    "    \"AceptóOferta\": [0, 1, 0, 1, 0, 1, 0, 1, 0, 1, 0, 1, 0, 1, 0, 1, 0, 1, 0, 1]\n",
    "}\n",
    "\n",
    "# Crear un DataFrame con los datos\n",
    "dataset = pd.DataFrame(data)\n",
    "\n"
   ]
  },
  {
   "cell_type": "code",
   "execution_count": null,
   "id": "50e16861",
   "metadata": {},
   "outputs": [],
   "source": []
  },
  {
   "cell_type": "code",
   "execution_count": null,
   "id": "6b21712d",
   "metadata": {},
   "outputs": [],
   "source": [
    "import numpy as np\n",
    "import pandas as pd\n",
    "import matplotlib.pyplot as plt\n",
    "from sklearn.model_selection import train_test_split\n",
    "from sklearn.linear_model import LogisticRegression\n",
    "from sklearn.metrics import accuracy_score, confusion_matrix, classification_report\n",
    "\n",
    "# Datos de ejemplo: Horas de estudio y si aprobó o no\n",
    "data = {'Horas_Estudio': [1, 2, 3, 4, 5, 6, 7, 8, 9, 10],\n",
    "        'Aprobo': [0, 0, 0, 0, 1, 1, 1, 1, 1, 1]}\n",
    "\n",
    "df = pd.DataFrame(data)\n",
    "print(df)"
   ]
  },
  {
   "cell_type": "code",
   "execution_count": null,
   "id": "fe1e21a8",
   "metadata": {},
   "outputs": [],
   "source": [
    "import numpy as np\n",
    "import pandas as pd\n",
    "import matplotlib.pyplot as plt\n",
    "from sklearn.model_selection import train_test_split\n",
    "from sklearn.linear_model import LogisticRegression\n",
    "from sklearn.metrics import accuracy_score, confusion_matrix, classification_report\n",
    "\n",
    "# Datos de ejemplo: Edad, Presión arterial, Colesterol y si tiene enfermedad cardíaca\n",
    "data = {\n",
    "    'Edad': [25, 32, 47, 51, 62, 45, 53, 35, 41, 60, 52, 48, 37, 29, 58],\n",
    "    'Presion_Arterial': [120, 130, 150, 145, 160, 140, 155, 135, 138, 165, 150, 148, 133, 125, 158],\n",
    "    'Colesterol': [180, 190, 240, 230, 260, 220, 250, 200, 210, 270, 245, 235, 198, 185, 255],\n",
    "    'Enfermedad_Cardiaca': [0, 0, 1, 1, 1, 0, 1, 0, 0, 1, 1, 1, 0, 0, 1]\n",
    "}\n",
    "\n",
    "df = pd.DataFrame(data)\n",
    "print(df)"
   ]
  }
 ],
 "metadata": {
  "kernelspec": {
   "display_name": "Python 3 (ipykernel)",
   "language": "python",
   "name": "python3"
  },
  "language_info": {
   "codemirror_mode": {
    "name": "ipython",
    "version": 3
   },
   "file_extension": ".py",
   "mimetype": "text/x-python",
   "name": "python",
   "nbconvert_exporter": "python",
   "pygments_lexer": "ipython3",
   "version": "3.11.7"
  }
 },
 "nbformat": 4,
 "nbformat_minor": 5
}
