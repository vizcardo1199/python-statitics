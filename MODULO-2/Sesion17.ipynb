{
 "cells": [
  {
   "cell_type": "code",
   "execution_count": null,
   "id": "d5478d8e",
   "metadata": {},
   "outputs": [],
   "source": [
    "#TEMAS VISTOS\n",
    "1. PANDAS \n",
    "2. BIAS Y VARIANZA ; IRREDUCIBLES \n",
    "3. REGRESION LINEAL \n",
    "4. RL SIMPLE (ax+b)\n",
    "5. RL MULTIPLE VARIABLE \n",
    "6. RL POLINOMICA (P(X))\n",
    "7. CORRELACION DE PEARSON Y MAPAS DE CALOR\n",
    "8. Correlacion y RL"
   ]
  },
  {
   "cell_type": "code",
   "execution_count": 1,
   "id": "97fd8837",
   "metadata": {},
   "outputs": [],
   "source": [
    "import numpy as np\n",
    "import matplotlib.pyplot as plt\n",
    "from sklearn.svm import SVR\n",
    "\n",
    "# Datos fijos\n",
    "X = np.array([1, 2, 3, 4, 5, 6, 7, 8, 9, 10]).reshape(-1, 1)  # Convertir a matriz columna\n",
    "y = np.array([1.5, 2.5, 4.8, 7.5, 10.8, 15.2, 20.5, 27.3, 35.2, 45.5])  # Valores de salida\n",
    "\n"
   ]
  },
  {
   "cell_type": "code",
   "execution_count": null,
   "id": "bef83ee4",
   "metadata": {},
   "outputs": [],
   "source": [
    "import numpy as np\n",
    "import matplotlib.pyplot as plt\n",
    "from sklearn.svm import SVR\n",
    "\n",
    "# Datos lineales con ruido\n",
    "X = np.array([1, 2, 3, 4, 5, 6, 7, 8, 9, 10]).reshape(-1, 1)\n",
    "y = 2 * X.ravel() + np.random.normal(0, 1, size=X.shape[0])"
   ]
  },
  {
   "cell_type": "code",
   "execution_count": null,
   "id": "411f98cd",
   "metadata": {},
   "outputs": [],
   "source": [
    "import numpy as np\n",
    "import matplotlib.pyplot as plt\n",
    "from sklearn.svm import SVR\n",
    "\n",
    "# Datos lineales con ruido\n",
    "X = np.array([1, 2, 3, 4, 5, 6, 7, 8, 9, 10]).reshape(-1, 1)\n",
    "y = 2 * X.ravel() + np.random.normal(0, 1, size=X.shape[0])"
   ]
  },
  {
   "cell_type": "code",
   "execution_count": null,
   "id": "3c8afc11",
   "metadata": {},
   "outputs": [],
   "source": [
    "import numpy as np\n",
    "import matplotlib.pyplot as plt\n",
    "from sklearn.svm import SVR\n",
    "\n",
    "# Datos sinusoidales con ruido\n",
    "X = np.linspace(0, 10, 100).reshape(-1, 1)\n",
    "y = np.sin(X).ravel() + np.random.normal(0, 0.1, size=X.shape[0])"
   ]
  },
  {
   "cell_type": "code",
   "execution_count": null,
   "id": "25127cc6",
   "metadata": {},
   "outputs": [],
   "source": [
    "import pandas as pd\n",
    "from sklearn.tree import DecisionTreeClassifier, plot_tree\n",
    "import matplotlib.pyplot as plt\n",
    "\n",
    "# Crear dataset\n",
    "data = {\n",
    "    \"Peso\": [150, 180, 140, 130, 170, 200, 110],\n",
    "    \"Color_Rojo\": [1, 0, 1, 1, 0, 0, 1],  # 1=Rojo, 0=Naranja\n",
    "    \"Fruta\": [\"Manzana\", \"Naranja\", \"Manzana\", \"Manzana\", \"Naranja\", \"Naranja\", \"Manzana\"],\n",
    "}"
   ]
  },
  {
   "cell_type": "code",
   "execution_count": null,
   "id": "c1c6753d",
   "metadata": {},
   "outputs": [],
   "source": [
    "data = {\n",
    "    \"Ingreso\": [40000, 50000, 60000, 70000, 80000],\n",
    "    \"Deuda\": [10000, 15000, 20000, 25000, 30000],\n",
    "    \"Aprobado\": [1, 1, 0, 0, 0],  # 1=Sí, 0=No\n",
    "}\n",
    "\n",
    "df = pd.DataFrame(data)\n",
    "\n",
    "# Variables independientes y dependiente\n",
    "X = df[[\"Ingreso\", \"Deuda\"]]\n",
    "y = df[\"Aprobado\"]"
   ]
  },
  {
   "cell_type": "code",
   "execution_count": null,
   "id": "2d96e4dc",
   "metadata": {},
   "outputs": [],
   "source": [
    "import pandas as pd\n",
    "from sklearn.tree import DecisionTreeClassifier, plot_tree\n",
    "import matplotlib.pyplot as plt\n",
    "\n",
    "# Leer el archivo Excel\n",
    "df = pd.read_excel('estudiantes.xlsx')\n",
    "\n",
    "# Variables independientes y dependiente\n",
    "X = df[[\"Horas_Estudio\", \"Asistencias\"]]\n",
    "y = df[\"Aprobado\"]"
   ]
  },
  {
   "cell_type": "code",
   "execution_count": 4,
   "id": "e9aa78ee",
   "metadata": {},
   "outputs": [],
   "source": [
    "import pandas as pd\n",
    "from sklearn.tree import DecisionTreeClassifier, plot_tree\n",
    "import matplotlib.pyplot as plt\n",
    "\n",
    "data = {\n",
    "    \"Clase\": [1, 1, 3, 3, 2, 1, 3],  # 1=Primera, 2=Segunda, 3=Tercera\n",
    "    \"Genero_F\": [1, 0, 1, 0, 1, 1, 0],  # 1=Femenino, 0=Masculino\n",
    "    \"Sobrevivio\": [1, 0, 0, 0, 1, 1, 0],  # 1=Sí, 0=No\n",
    "}\n",
    "\n",
    "df = pd.DataFrame(data)\n",
    "\n",
    "# Variables independientes y dependiente\n",
    "X = df[[\"Clase\", \"Genero_F\"]]\n",
    "y = df[\"Sobrevivio\"]\n",
    "\n"
   ]
  },
  {
   "cell_type": "code",
   "execution_count": 5,
   "id": "0d0c0f48",
   "metadata": {},
   "outputs": [],
   "source": [
    "# Generar ejemplo de estudiantes\n",
    "data_estudiantes = {\n",
    "    \"Horas_Estudio\": [1, 2, 3, 4, 5],\n",
    "    \"Asistencias\": [10, 20, 15, 25, 30],\n",
    "    \"Aprobado\": [0, 0, 1, 1, 1]\n",
    "}\n",
    "df_estudiantes = pd.DataFrame(data_estudiantes)\n",
    "df_estudiantes.to_excel(\"estudiantes.xlsx\", index=False)\n",
    "\n",
    "# Generar ejemplo de compras\n",
    "data_compras = {\n",
    "    \"Edad\": [18, 22, 30, 40, 50],\n",
    "    \"Ingresos\": [1500, 2500, 3000, 5000, 7000],\n",
    "    \"Compra\": [0, 1, 1, 1, 0]\n",
    "}\n",
    "df_compras = pd.DataFrame(data_compras)\n",
    "df_compras.to_excel(\"compras.xlsx\", index=False)\n",
    "\n",
    "# Generar ejemplo de churn\n",
    "data_churn = {\n",
    "    \"Meses_Activos\": [1, 12, 24, 36, 48],\n",
    "    \"Gastos\": [500, 1200, 2400, 3600, 4800],\n",
    "    \"Churn\": [1, 0, 0, 0, 1]\n",
    "}\n",
    "df_churn = pd.DataFrame(data_churn)\n",
    "df_churn.to_excel(\"churn_clientes.xlsx\", index=False)"
   ]
  },
  {
   "cell_type": "code",
   "execution_count": null,
   "id": "daa87af9",
   "metadata": {},
   "outputs": [],
   "source": [
    "import pandas as pd\n",
    "\n",
    "# Crear datos fijos\n",
    "data = {\n",
    "    \"Edad\": [25, 30, 35, 40, 45, 50, 55, 60, 25, 30, 35, 40, 45, 50, 55, 60, 25, 30, 35, 40],\n",
    "    \"IngresoMensual\": [3000, 4000, 5000, 6000, 7000, 8000, 9000, 10000, 3000, 4000, 5000, 6000, 7000, 8000, 9000, 10000, 3000, 4000, 5000, 6000],\n",
    "    \"AntiguedadBanco\": [1, 2, 3, 4, 5, 6, 7, 8, 1, 2, 3, 4, 5, 6, 7, 8, 1, 2, 3, 4],\n",
    "    \"SaldoCuenta\": [5000, 10000, 15000, 20000, 25000, 30000, 35000, 40000, 5000, 10000, 15000, 20000, 25000, 30000, 35000, 40000, 5000, 10000, 15000, 20000],\n",
    "    \"DeudasPendientes\": [0, 1000, 2000, 3000, 4000, 5000, 6000, 7000, 0, 1000, 2000, 3000, 4000, 5000, 6000, 7000, 0, 1000, 2000, 3000],\n",
    "    \"NumProductos\": [1, 2, 1, 2, 3, 3, 4, 4, 1, 2, 1, 2, 3, 3, 4, 4, 1, 2, 1, 2],\n",
    "    \"AceptóOferta\": [0, 1, 0, 1, 0, 1, 0, 1, 0, 1, 0, 1, 0, 1, 0, 1, 0, 1, 0, 1]\n",
    "}\n",
    "\n",
    "# Crear un DataFrame con los datos\n",
    "dataset = pd.DataFrame(data)\n",
    "\n",
    "# Mostrar las primeras filas del dataset\n",
    "print(\"Dataset fijo:\")\n",
    "print(dataset)"
   ]
  }
 ],
 "metadata": {
  "kernelspec": {
   "display_name": "Python 3 (ipykernel)",
   "language": "python",
   "name": "python3"
  },
  "language_info": {
   "codemirror_mode": {
    "name": "ipython",
    "version": 3
   },
   "file_extension": ".py",
   "mimetype": "text/x-python",
   "name": "python",
   "nbconvert_exporter": "python",
   "pygments_lexer": "ipython3",
   "version": "3.11.7"
  }
 },
 "nbformat": 4,
 "nbformat_minor": 5
}
