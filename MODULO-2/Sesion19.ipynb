{
 "cells": [
  {
   "cell_type": "code",
   "execution_count": null,
   "id": "4f768f53",
   "metadata": {},
   "outputs": [],
   "source": [
    "from sklearn.feature_extraction.text import CountVectorizer\n",
    "from sklearn.naive_bayes import MultinomialNB\n",
    "from sklearn.model_selection import train_test_split\n",
    "\n",
    "# Datos\n",
    "textos = [\n",
    "    \"Gana dinero fácil ahora\",\n",
    "    \"Oferta exclusiva para ti\",\n",
    "    \"Llama ya y gana un premio\",\n",
    "    \"Tu factura está lista\",\n",
    "    \"Reunión confirmada a las 3 pm\",\n",
    "    \"Actualización de tu cuenta\"\n",
    "]\n",
    "etiquetas = [\"spam\", \"spam\", \"spam\", \"no spam\", \"no spam\", \"no spam\"]\n"
   ]
  },
  {
   "cell_type": "code",
   "execution_count": null,
   "id": "c1eb6c8e",
   "metadata": {},
   "outputs": [],
   "source": [
    "import numpy as np\n",
    "from sklearn.naive_bayes import GaussianNB\n",
    "from sklearn.model_selection import train_test_split\n",
    "\n",
    "# Datos: [nota1, nota2, promedio]\n",
    "datos = np.array([\n",
    "    [85, 90, 88],  # Aprobado\n",
    "    [70, 65, 68],  # Reprobado\n",
    "    [95, 92, 94],  # Aprobado\n",
    "    [60, 58, 59],  # Reprobado\n",
    "    [80, 85, 83],  # Aprobado\n",
    "    [55, 50, 52]   # Reprobado\n",
    "])\n",
    "etiquetas = [\"aprobado\", \"reprobado\", \"aprobado\", \"reprobado\", \"aprobado\", \"reprobado\"]"
   ]
  },
  {
   "cell_type": "code",
   "execution_count": null,
   "id": "c4bd4ae9",
   "metadata": {},
   "outputs": [],
   "source": [
    "# Paso 1: Importar librerías\n",
    "import numpy as np\n",
    "import matplotlib.pyplot as plt\n",
    "from sklearn.neighbors import KNeighborsClassifier\n",
    "\n",
    "# Paso 2: Crear datos de ejemplo\n",
    "# Clase A (rojo)\n",
    "X_A = np.array([[1, 2], [2, 3], [3, 1]])\n",
    "y_A = np.array([0, 0, 0])  # Etiqueta 0 para clase A\n",
    "\n",
    "# Clase B (azul)\n",
    "X_B = np.array([[6, 5], [7, 7], [8, 6]])\n",
    "y_B = np.array([1, 1, 1])  # Etiqueta 1 para clase B"
   ]
  },
  {
   "cell_type": "code",
   "execution_count": null,
   "id": "5c76f1ab",
   "metadata": {},
   "outputs": [],
   "source": [
    "import pandas as pd\n",
    "import numpy as np\n",
    "from sklearn.model_selection import train_test_split\n",
    "from sklearn.neighbors import KNeighborsClassifier\n",
    "from sklearn.metrics import accuracy_score, confusion_matrix, classification_report\n",
    "\n",
    "# Paso 2: Cargar el dataset Titanic (datos fijos)\n",
    "data = {\n",
    "    \"Pclass\": [3, 1, 3, 1, 3, 3, 1, 3, 3, 2],\n",
    "    \"Sex\": [\"male\", \"female\", \"female\", \"female\", \"male\", \"male\", \"male\", \"female\", \"female\", \"male\"],\n",
    "    \"Age\": [22, 38, 26, 35, 35, None, 54, 2, 27, 14],\n",
    "    \"Fare\": [7.25, 71.2833, 7.925, 53.1, 8.05, 8.4583, 51.8625, 21.075, 11.1333, 30.0708],\n",
    "    \"Survived\": [0, 1, 1, 1, 0, 0, 0, 1, 1, 1]\n",
    "}"
   ]
  },
  {
   "cell_type": "code",
   "execution_count": null,
   "id": "f56e4389",
   "metadata": {},
   "outputs": [],
   "source": []
  }
 ],
 "metadata": {
  "kernelspec": {
   "display_name": "Python 3 (ipykernel)",
   "language": "python",
   "name": "python3"
  },
  "language_info": {
   "codemirror_mode": {
    "name": "ipython",
    "version": 3
   },
   "file_extension": ".py",
   "mimetype": "text/x-python",
   "name": "python",
   "nbconvert_exporter": "python",
   "pygments_lexer": "ipython3",
   "version": "3.11.7"
  }
 },
 "nbformat": 4,
 "nbformat_minor": 5
}
